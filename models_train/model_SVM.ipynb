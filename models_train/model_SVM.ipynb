{
 "cells": [
  {
   "cell_type": "code",
   "execution_count": 1,
   "metadata": {},
   "outputs": [
    {
     "output_type": "stream",
     "name": "stdout",
     "text": [
      "Requirement already satisfied: sklearn in /opt/anaconda3/lib/python3.8/site-packages (0.0)\n",
      "Collecting sklearn\n",
      "  Using cached sklearn-0.0-py2.py3-none-any.whl\n",
      "Requirement already satisfied: scikit-learn in /opt/anaconda3/lib/python3.8/site-packages (from sklearn) (0.23.2)\n",
      "Requirement already satisfied: numpy>=1.13.3 in /opt/anaconda3/lib/python3.8/site-packages (from scikit-learn->sklearn) (1.19.2)\n",
      "Requirement already satisfied: threadpoolctl>=2.0.0 in /opt/anaconda3/lib/python3.8/site-packages (from scikit-learn->sklearn) (2.1.0)\n",
      "Requirement already satisfied: joblib>=0.11 in /opt/anaconda3/lib/python3.8/site-packages (from scikit-learn->sklearn) (1.0.0)\n",
      "Requirement already satisfied: scipy>=0.19.1 in /opt/anaconda3/lib/python3.8/site-packages (from scikit-learn->sklearn) (1.5.2)\n"
     ]
    }
   ],
   "source": [
    "# Update sklearn to prevent version mismatches\n",
    "import sys\n",
    "!{sys.executable} -m pip install sklearn --upgrade"
   ]
  },
  {
   "cell_type": "code",
   "execution_count": 2,
   "metadata": {},
   "outputs": [
    {
     "output_type": "stream",
     "name": "stdout",
     "text": [
      "Requirement already satisfied: joblib in /opt/anaconda3/lib/python3.8/site-packages (1.0.0)\n"
     ]
    }
   ],
   "source": [
    "# install joblib. This will be used to save your model. \n",
    "# Restart your kernel after installing \n",
    "!pip install joblib"
   ]
  },
  {
   "cell_type": "code",
   "execution_count": 1,
   "metadata": {},
   "outputs": [],
   "source": [
    "import pandas as pd\n",
    "import numpy as np\n",
    "pd.set_option('display.max_columns', None)"
   ]
  },
  {
   "cell_type": "code",
   "execution_count": 3,
   "metadata": {},
   "outputs": [
    {
     "output_type": "execute_result",
     "data": {
      "text/plain": [
       "       koi_fpflag_nt  koi_fpflag_ss  koi_fpflag_co  koi_fpflag_ec  \\\n",
       "count    6991.000000    6991.000000    6991.000000    6991.000000   \n",
       "mean        0.157059       0.244743       0.202975       0.125018   \n",
       "std         0.363882       0.429966       0.402243       0.330763   \n",
       "min         0.000000       0.000000       0.000000       0.000000   \n",
       "25%         0.000000       0.000000       0.000000       0.000000   \n",
       "50%         0.000000       0.000000       0.000000       0.000000   \n",
       "75%         0.000000       0.000000       0.000000       0.000000   \n",
       "max         1.000000       1.000000       1.000000       1.000000   \n",
       "\n",
       "        koi_period  koi_period_err1  koi_period_err2  koi_time0bk  \\\n",
       "count  6991.000000     6.991000e+03     6.991000e+03  6991.000000   \n",
       "mean     56.191248     1.851122e-03    -1.851122e-03   164.488820   \n",
       "std     117.570962     7.184503e-03     7.184503e-03    67.020475   \n",
       "min       0.259820     1.100000e-08    -1.568000e-01   120.515914   \n",
       "25%       2.620126     5.005000e-06    -2.401000e-04   132.683917   \n",
       "50%       8.947426     3.300000e-05    -3.300000e-05   136.739230   \n",
       "75%      34.282605     2.401000e-04    -5.005000e-06   169.937005   \n",
       "max    1071.232624     1.568000e-01    -1.100000e-08  1472.522306   \n",
       "\n",
       "       koi_time0bk_err1  koi_time0bk_err2   koi_impact  koi_impact_err1  \\\n",
       "count       6991.000000       6991.000000  6991.000000      6991.000000   \n",
       "mean           0.009340         -0.009340     0.730631         1.945368   \n",
       "std            0.021989          0.021989     3.346956         9.401850   \n",
       "min            0.000009         -0.569000     0.000000         0.000000   \n",
       "25%            0.001145         -0.010000     0.198000         0.039900   \n",
       "50%            0.003990         -0.003990     0.539000         0.189800   \n",
       "75%            0.010000         -0.001145     0.891000         0.379000   \n",
       "max            0.569000         -0.000009   100.806000        85.540000   \n",
       "\n",
       "       koi_impact_err2  koi_duration  koi_duration_err1  koi_duration_err2  \\\n",
       "count      6991.000000   6991.000000        6991.000000        6991.000000   \n",
       "mean         -0.337243      5.549368           0.320715          -0.320715   \n",
       "std           1.349036      6.425205           0.665352           0.665352   \n",
       "min         -59.320000      0.167000           0.000000         -20.200000   \n",
       "25%          -0.446000      2.446000           0.048900          -0.334000   \n",
       "50%          -0.204000      3.793000           0.137000          -0.137000   \n",
       "75%          -0.044000      6.197500           0.334000          -0.048900   \n",
       "max           0.000000    138.540000          20.200000           0.000000   \n",
       "\n",
       "          koi_depth  koi_depth_err1  koi_depth_err2       koi_prad  \\\n",
       "count  6.991000e+03     6991.000000     6991.000000    6991.000000   \n",
       "mean   2.391190e+04      130.789186     -130.789186     121.194193   \n",
       "std    8.241240e+04     4689.233030     4689.233030    3519.737626   \n",
       "min    7.500000e+00        0.000000  -388600.000000       0.140000   \n",
       "25%    1.604000e+02        9.400000      -48.000000       1.400000   \n",
       "50%    4.245000e+02       20.200000      -20.200000       2.420000   \n",
       "75%    1.533250e+03       48.000000       -9.400000      15.965000   \n",
       "max    1.541400e+06   388600.000000        0.000000  200346.000000   \n",
       "\n",
       "       koi_prad_err1  koi_prad_err2       koi_teq     koi_insol  \\\n",
       "count    6991.000000    6991.000000   6991.000000  6.991000e+03   \n",
       "mean       19.483454     -40.352509   1095.152768  8.263769e+03   \n",
       "std       436.752064    1366.939375    856.234809  1.775255e+05   \n",
       "min         0.000000  -77180.000000     92.000000  2.000000e-02   \n",
       "25%         0.240000      -2.080000    554.000000  2.227000e+01   \n",
       "50%         0.520000      -0.310000    888.000000  1.466700e+02   \n",
       "75%         2.650000      -0.140000   1397.500000  9.006700e+02   \n",
       "max     21640.000000       0.000000  14667.000000  1.094755e+07   \n",
       "\n",
       "       koi_insol_err1  koi_insol_err2  koi_model_snr  koi_tce_plnt_num  \\\n",
       "count    6.991000e+03    6.991000e+03    6991.000000       6991.000000   \n",
       "mean     3.599918e+03   -4.302621e+03     276.038764          1.233729   \n",
       "std      5.607270e+04    9.924848e+04     824.788481          0.650089   \n",
       "min      0.000000e+00   -5.600031e+06       1.600000          1.000000   \n",
       "25%      1.139000e+01   -3.068950e+02      12.400000          1.000000   \n",
       "50%      8.090000e+01   -4.443000e+01      23.700000          1.000000   \n",
       "75%      5.529550e+02   -6.400000e+00      82.250000          1.000000   \n",
       "max      3.617133e+06    0.000000e+00    9054.700000          8.000000   \n",
       "\n",
       "          koi_steff  koi_steff_err1  koi_steff_err2    koi_slogg  \\\n",
       "count   6991.000000     6991.000000     6991.000000  6991.000000   \n",
       "mean    5700.682449      143.898155     -161.206980     4.305049   \n",
       "std      802.060405       46.566511       71.448481     0.439238   \n",
       "min     2661.000000        0.000000    -1733.000000     0.047000   \n",
       "25%     5297.000000      105.000000     -197.000000     4.209000   \n",
       "50%     5757.000000      156.000000     -159.000000     4.436000   \n",
       "75%     6110.000000      174.000000     -112.000000     4.543000   \n",
       "max    15896.000000      676.000000        0.000000     5.364000   \n",
       "\n",
       "       koi_slogg_err1  koi_slogg_err2     koi_srad  koi_srad_err1  \\\n",
       "count     6991.000000      6991.00000  6991.000000    6991.000000   \n",
       "mean         0.121091        -0.14048     1.740749       0.352710   \n",
       "std          0.132048         0.08199     5.903415       0.839017   \n",
       "min          0.000000        -1.00700     0.109000       0.000000   \n",
       "25%          0.044000        -0.19500     0.829000       0.128000   \n",
       "50%          0.070000        -0.12700     0.999000       0.248000   \n",
       "75%          0.149000        -0.08800     1.357000       0.357000   \n",
       "max          1.472000         0.00000   180.013000      25.956000   \n",
       "\n",
       "       koi_srad_err2           ra          dec   koi_kepmag  \n",
       "count    6991.000000  6991.000000  6991.000000  6991.000000  \n",
       "mean       -0.388568   292.082406    43.812143    14.271508  \n",
       "std         1.907797     4.762908     3.606167     1.350802  \n",
       "min      -103.825000   279.856080    36.577381     6.966000  \n",
       "25%        -0.252000   288.704730    40.797760    13.455000  \n",
       "50%        -0.111000   292.314760    43.679661    14.534000  \n",
       "75%        -0.069000   295.888550    46.693659    15.322000  \n",
       "max         0.000000   301.720760    52.336010    19.065000  "
      ],
      "text/html": "<div>\n<style scoped>\n    .dataframe tbody tr th:only-of-type {\n        vertical-align: middle;\n    }\n\n    .dataframe tbody tr th {\n        vertical-align: top;\n    }\n\n    .dataframe thead th {\n        text-align: right;\n    }\n</style>\n<table border=\"1\" class=\"dataframe\">\n  <thead>\n    <tr style=\"text-align: right;\">\n      <th></th>\n      <th>koi_fpflag_nt</th>\n      <th>koi_fpflag_ss</th>\n      <th>koi_fpflag_co</th>\n      <th>koi_fpflag_ec</th>\n      <th>koi_period</th>\n      <th>koi_period_err1</th>\n      <th>koi_period_err2</th>\n      <th>koi_time0bk</th>\n      <th>koi_time0bk_err1</th>\n      <th>koi_time0bk_err2</th>\n      <th>koi_impact</th>\n      <th>koi_impact_err1</th>\n      <th>koi_impact_err2</th>\n      <th>koi_duration</th>\n      <th>koi_duration_err1</th>\n      <th>koi_duration_err2</th>\n      <th>koi_depth</th>\n      <th>koi_depth_err1</th>\n      <th>koi_depth_err2</th>\n      <th>koi_prad</th>\n      <th>koi_prad_err1</th>\n      <th>koi_prad_err2</th>\n      <th>koi_teq</th>\n      <th>koi_insol</th>\n      <th>koi_insol_err1</th>\n      <th>koi_insol_err2</th>\n      <th>koi_model_snr</th>\n      <th>koi_tce_plnt_num</th>\n      <th>koi_steff</th>\n      <th>koi_steff_err1</th>\n      <th>koi_steff_err2</th>\n      <th>koi_slogg</th>\n      <th>koi_slogg_err1</th>\n      <th>koi_slogg_err2</th>\n      <th>koi_srad</th>\n      <th>koi_srad_err1</th>\n      <th>koi_srad_err2</th>\n      <th>ra</th>\n      <th>dec</th>\n      <th>koi_kepmag</th>\n    </tr>\n  </thead>\n  <tbody>\n    <tr>\n      <th>count</th>\n      <td>6991.000000</td>\n      <td>6991.000000</td>\n      <td>6991.000000</td>\n      <td>6991.000000</td>\n      <td>6991.000000</td>\n      <td>6.991000e+03</td>\n      <td>6.991000e+03</td>\n      <td>6991.000000</td>\n      <td>6991.000000</td>\n      <td>6991.000000</td>\n      <td>6991.000000</td>\n      <td>6991.000000</td>\n      <td>6991.000000</td>\n      <td>6991.000000</td>\n      <td>6991.000000</td>\n      <td>6991.000000</td>\n      <td>6.991000e+03</td>\n      <td>6991.000000</td>\n      <td>6991.000000</td>\n      <td>6991.000000</td>\n      <td>6991.000000</td>\n      <td>6991.000000</td>\n      <td>6991.000000</td>\n      <td>6.991000e+03</td>\n      <td>6.991000e+03</td>\n      <td>6.991000e+03</td>\n      <td>6991.000000</td>\n      <td>6991.000000</td>\n      <td>6991.000000</td>\n      <td>6991.000000</td>\n      <td>6991.000000</td>\n      <td>6991.000000</td>\n      <td>6991.000000</td>\n      <td>6991.00000</td>\n      <td>6991.000000</td>\n      <td>6991.000000</td>\n      <td>6991.000000</td>\n      <td>6991.000000</td>\n      <td>6991.000000</td>\n      <td>6991.000000</td>\n    </tr>\n    <tr>\n      <th>mean</th>\n      <td>0.157059</td>\n      <td>0.244743</td>\n      <td>0.202975</td>\n      <td>0.125018</td>\n      <td>56.191248</td>\n      <td>1.851122e-03</td>\n      <td>-1.851122e-03</td>\n      <td>164.488820</td>\n      <td>0.009340</td>\n      <td>-0.009340</td>\n      <td>0.730631</td>\n      <td>1.945368</td>\n      <td>-0.337243</td>\n      <td>5.549368</td>\n      <td>0.320715</td>\n      <td>-0.320715</td>\n      <td>2.391190e+04</td>\n      <td>130.789186</td>\n      <td>-130.789186</td>\n      <td>121.194193</td>\n      <td>19.483454</td>\n      <td>-40.352509</td>\n      <td>1095.152768</td>\n      <td>8.263769e+03</td>\n      <td>3.599918e+03</td>\n      <td>-4.302621e+03</td>\n      <td>276.038764</td>\n      <td>1.233729</td>\n      <td>5700.682449</td>\n      <td>143.898155</td>\n      <td>-161.206980</td>\n      <td>4.305049</td>\n      <td>0.121091</td>\n      <td>-0.14048</td>\n      <td>1.740749</td>\n      <td>0.352710</td>\n      <td>-0.388568</td>\n      <td>292.082406</td>\n      <td>43.812143</td>\n      <td>14.271508</td>\n    </tr>\n    <tr>\n      <th>std</th>\n      <td>0.363882</td>\n      <td>0.429966</td>\n      <td>0.402243</td>\n      <td>0.330763</td>\n      <td>117.570962</td>\n      <td>7.184503e-03</td>\n      <td>7.184503e-03</td>\n      <td>67.020475</td>\n      <td>0.021989</td>\n      <td>0.021989</td>\n      <td>3.346956</td>\n      <td>9.401850</td>\n      <td>1.349036</td>\n      <td>6.425205</td>\n      <td>0.665352</td>\n      <td>0.665352</td>\n      <td>8.241240e+04</td>\n      <td>4689.233030</td>\n      <td>4689.233030</td>\n      <td>3519.737626</td>\n      <td>436.752064</td>\n      <td>1366.939375</td>\n      <td>856.234809</td>\n      <td>1.775255e+05</td>\n      <td>5.607270e+04</td>\n      <td>9.924848e+04</td>\n      <td>824.788481</td>\n      <td>0.650089</td>\n      <td>802.060405</td>\n      <td>46.566511</td>\n      <td>71.448481</td>\n      <td>0.439238</td>\n      <td>0.132048</td>\n      <td>0.08199</td>\n      <td>5.903415</td>\n      <td>0.839017</td>\n      <td>1.907797</td>\n      <td>4.762908</td>\n      <td>3.606167</td>\n      <td>1.350802</td>\n    </tr>\n    <tr>\n      <th>min</th>\n      <td>0.000000</td>\n      <td>0.000000</td>\n      <td>0.000000</td>\n      <td>0.000000</td>\n      <td>0.259820</td>\n      <td>1.100000e-08</td>\n      <td>-1.568000e-01</td>\n      <td>120.515914</td>\n      <td>0.000009</td>\n      <td>-0.569000</td>\n      <td>0.000000</td>\n      <td>0.000000</td>\n      <td>-59.320000</td>\n      <td>0.167000</td>\n      <td>0.000000</td>\n      <td>-20.200000</td>\n      <td>7.500000e+00</td>\n      <td>0.000000</td>\n      <td>-388600.000000</td>\n      <td>0.140000</td>\n      <td>0.000000</td>\n      <td>-77180.000000</td>\n      <td>92.000000</td>\n      <td>2.000000e-02</td>\n      <td>0.000000e+00</td>\n      <td>-5.600031e+06</td>\n      <td>1.600000</td>\n      <td>1.000000</td>\n      <td>2661.000000</td>\n      <td>0.000000</td>\n      <td>-1733.000000</td>\n      <td>0.047000</td>\n      <td>0.000000</td>\n      <td>-1.00700</td>\n      <td>0.109000</td>\n      <td>0.000000</td>\n      <td>-103.825000</td>\n      <td>279.856080</td>\n      <td>36.577381</td>\n      <td>6.966000</td>\n    </tr>\n    <tr>\n      <th>25%</th>\n      <td>0.000000</td>\n      <td>0.000000</td>\n      <td>0.000000</td>\n      <td>0.000000</td>\n      <td>2.620126</td>\n      <td>5.005000e-06</td>\n      <td>-2.401000e-04</td>\n      <td>132.683917</td>\n      <td>0.001145</td>\n      <td>-0.010000</td>\n      <td>0.198000</td>\n      <td>0.039900</td>\n      <td>-0.446000</td>\n      <td>2.446000</td>\n      <td>0.048900</td>\n      <td>-0.334000</td>\n      <td>1.604000e+02</td>\n      <td>9.400000</td>\n      <td>-48.000000</td>\n      <td>1.400000</td>\n      <td>0.240000</td>\n      <td>-2.080000</td>\n      <td>554.000000</td>\n      <td>2.227000e+01</td>\n      <td>1.139000e+01</td>\n      <td>-3.068950e+02</td>\n      <td>12.400000</td>\n      <td>1.000000</td>\n      <td>5297.000000</td>\n      <td>105.000000</td>\n      <td>-197.000000</td>\n      <td>4.209000</td>\n      <td>0.044000</td>\n      <td>-0.19500</td>\n      <td>0.829000</td>\n      <td>0.128000</td>\n      <td>-0.252000</td>\n      <td>288.704730</td>\n      <td>40.797760</td>\n      <td>13.455000</td>\n    </tr>\n    <tr>\n      <th>50%</th>\n      <td>0.000000</td>\n      <td>0.000000</td>\n      <td>0.000000</td>\n      <td>0.000000</td>\n      <td>8.947426</td>\n      <td>3.300000e-05</td>\n      <td>-3.300000e-05</td>\n      <td>136.739230</td>\n      <td>0.003990</td>\n      <td>-0.003990</td>\n      <td>0.539000</td>\n      <td>0.189800</td>\n      <td>-0.204000</td>\n      <td>3.793000</td>\n      <td>0.137000</td>\n      <td>-0.137000</td>\n      <td>4.245000e+02</td>\n      <td>20.200000</td>\n      <td>-20.200000</td>\n      <td>2.420000</td>\n      <td>0.520000</td>\n      <td>-0.310000</td>\n      <td>888.000000</td>\n      <td>1.466700e+02</td>\n      <td>8.090000e+01</td>\n      <td>-4.443000e+01</td>\n      <td>23.700000</td>\n      <td>1.000000</td>\n      <td>5757.000000</td>\n      <td>156.000000</td>\n      <td>-159.000000</td>\n      <td>4.436000</td>\n      <td>0.070000</td>\n      <td>-0.12700</td>\n      <td>0.999000</td>\n      <td>0.248000</td>\n      <td>-0.111000</td>\n      <td>292.314760</td>\n      <td>43.679661</td>\n      <td>14.534000</td>\n    </tr>\n    <tr>\n      <th>75%</th>\n      <td>0.000000</td>\n      <td>0.000000</td>\n      <td>0.000000</td>\n      <td>0.000000</td>\n      <td>34.282605</td>\n      <td>2.401000e-04</td>\n      <td>-5.005000e-06</td>\n      <td>169.937005</td>\n      <td>0.010000</td>\n      <td>-0.001145</td>\n      <td>0.891000</td>\n      <td>0.379000</td>\n      <td>-0.044000</td>\n      <td>6.197500</td>\n      <td>0.334000</td>\n      <td>-0.048900</td>\n      <td>1.533250e+03</td>\n      <td>48.000000</td>\n      <td>-9.400000</td>\n      <td>15.965000</td>\n      <td>2.650000</td>\n      <td>-0.140000</td>\n      <td>1397.500000</td>\n      <td>9.006700e+02</td>\n      <td>5.529550e+02</td>\n      <td>-6.400000e+00</td>\n      <td>82.250000</td>\n      <td>1.000000</td>\n      <td>6110.000000</td>\n      <td>174.000000</td>\n      <td>-112.000000</td>\n      <td>4.543000</td>\n      <td>0.149000</td>\n      <td>-0.08800</td>\n      <td>1.357000</td>\n      <td>0.357000</td>\n      <td>-0.069000</td>\n      <td>295.888550</td>\n      <td>46.693659</td>\n      <td>15.322000</td>\n    </tr>\n    <tr>\n      <th>max</th>\n      <td>1.000000</td>\n      <td>1.000000</td>\n      <td>1.000000</td>\n      <td>1.000000</td>\n      <td>1071.232624</td>\n      <td>1.568000e-01</td>\n      <td>-1.100000e-08</td>\n      <td>1472.522306</td>\n      <td>0.569000</td>\n      <td>-0.000009</td>\n      <td>100.806000</td>\n      <td>85.540000</td>\n      <td>0.000000</td>\n      <td>138.540000</td>\n      <td>20.200000</td>\n      <td>0.000000</td>\n      <td>1.541400e+06</td>\n      <td>388600.000000</td>\n      <td>0.000000</td>\n      <td>200346.000000</td>\n      <td>21640.000000</td>\n      <td>0.000000</td>\n      <td>14667.000000</td>\n      <td>1.094755e+07</td>\n      <td>3.617133e+06</td>\n      <td>0.000000e+00</td>\n      <td>9054.700000</td>\n      <td>8.000000</td>\n      <td>15896.000000</td>\n      <td>676.000000</td>\n      <td>0.000000</td>\n      <td>5.364000</td>\n      <td>1.472000</td>\n      <td>0.00000</td>\n      <td>180.013000</td>\n      <td>25.956000</td>\n      <td>0.000000</td>\n      <td>301.720760</td>\n      <td>52.336010</td>\n      <td>19.065000</td>\n    </tr>\n  </tbody>\n</table>\n</div>"
     },
     "metadata": {},
     "execution_count": 3
    }
   ],
   "source": [
    "df = pd.read_csv(\"exoplanet_data.csv\")\n",
    "# Drop the null columns where all values are null\n",
    "df = df.dropna(axis='columns', how='all')\n",
    "# Drop the null rows\n",
    "df = df.dropna()\n",
    "df.head()"
   ]
  },
  {
   "cell_type": "markdown",
   "metadata": {},
   "source": [
    "# Read the CSV and Perform Basic Data Cleaning"
   ]
  },
  {
   "cell_type": "markdown",
   "metadata": {},
   "source": [
    "# Select your features (columns)"
   ]
  },
  {
   "cell_type": "code",
   "execution_count": 3,
   "metadata": {},
   "outputs": [
    {
     "output_type": "execute_result",
     "data": {
      "text/plain": [
       "   koi_fpflag_nt  koi_fpflag_ss  koi_fpflag_co  koi_fpflag_ec  koi_period  \\\n",
       "0              0              0              0              0   54.418383   \n",
       "1              0              1              0              0   19.899140   \n",
       "2              0              1              0              0    1.736952   \n",
       "3              0              0              0              0    2.525592   \n",
       "4              0              0              0              0    4.134435   \n",
       "\n",
       "   koi_period_err1  koi_period_err2  koi_time0bk  koi_time0bk_err1  \\\n",
       "0     2.479000e-04    -2.479000e-04   162.513840          0.003520   \n",
       "1     1.490000e-05    -1.490000e-05   175.850252          0.000581   \n",
       "2     2.630000e-07    -2.630000e-07   170.307565          0.000115   \n",
       "3     3.760000e-06    -3.760000e-06   171.595550          0.001130   \n",
       "4     1.050000e-05    -1.050000e-05   172.979370          0.001900   \n",
       "\n",
       "   koi_time0bk_err2  koi_impact  koi_impact_err1  koi_impact_err2  \\\n",
       "0         -0.003520       0.586            0.059           -0.443   \n",
       "1         -0.000581       0.969            5.126           -0.077   \n",
       "2         -0.000115       1.276            0.115           -0.092   \n",
       "3         -0.001130       0.701            0.235           -0.478   \n",
       "4         -0.001900       0.762            0.139           -0.532   \n",
       "\n",
       "   koi_duration  koi_duration_err1  koi_duration_err2  koi_depth  \\\n",
       "0       4.50700            0.11600           -0.11600      874.8   \n",
       "1       1.78220            0.03410           -0.03410    10829.0   \n",
       "2       2.40641            0.00537           -0.00537     8079.2   \n",
       "3       1.65450            0.04200           -0.04200      603.3   \n",
       "4       3.14020            0.06730           -0.06730      686.0   \n",
       "\n",
       "   koi_depth_err1  koi_depth_err2  koi_prad  koi_prad_err1  koi_prad_err2  \\\n",
       "0            35.5           -35.5      2.83           0.32          -0.19   \n",
       "1           171.0          -171.0     14.60           3.92          -1.31   \n",
       "2            12.8           -12.8     33.46           8.50          -2.83   \n",
       "3            16.9           -16.9      2.75           0.88          -0.35   \n",
       "4            18.7           -18.7      2.77           0.90          -0.30   \n",
       "\n",
       "   koi_teq  koi_insol  koi_insol_err1  koi_insol_err2  koi_model_snr  \\\n",
       "0      443       9.11            2.87           -1.62           25.8   \n",
       "1      638      39.30           31.04          -10.49           76.3   \n",
       "2     1395     891.96          668.95         -230.35          505.6   \n",
       "3     1406     926.16          874.33         -314.24           40.9   \n",
       "4     1160     427.65          420.33         -136.70           40.2   \n",
       "\n",
       "   koi_tce_plnt_num  koi_steff  koi_steff_err1  koi_steff_err2  koi_slogg  \\\n",
       "0                 2       5455              81             -81      4.467   \n",
       "1                 1       5853             158            -176      4.544   \n",
       "2                 1       5805             157            -174      4.564   \n",
       "3                 1       6031             169            -211      4.438   \n",
       "4                 2       6046             189            -232      4.486   \n",
       "\n",
       "   koi_slogg_err1  koi_slogg_err2  koi_srad  koi_srad_err1  koi_srad_err2  \\\n",
       "0           0.064          -0.096     0.927          0.105         -0.061   \n",
       "1           0.044          -0.176     0.868          0.233         -0.078   \n",
       "2           0.053          -0.168     0.791          0.201         -0.067   \n",
       "3           0.070          -0.210     1.046          0.334         -0.133   \n",
       "4           0.054          -0.229     0.972          0.315         -0.105   \n",
       "\n",
       "          ra        dec  koi_kepmag  \n",
       "0  291.93423  48.141651      15.347  \n",
       "1  297.00482  48.134129      15.436  \n",
       "2  285.53461  48.285210      15.597  \n",
       "3  288.75488  48.226200      15.509  \n",
       "4  296.28613  48.224670      15.714  "
      ],
      "text/html": "<div>\n<style scoped>\n    .dataframe tbody tr th:only-of-type {\n        vertical-align: middle;\n    }\n\n    .dataframe tbody tr th {\n        vertical-align: top;\n    }\n\n    .dataframe thead th {\n        text-align: right;\n    }\n</style>\n<table border=\"1\" class=\"dataframe\">\n  <thead>\n    <tr style=\"text-align: right;\">\n      <th></th>\n      <th>koi_fpflag_nt</th>\n      <th>koi_fpflag_ss</th>\n      <th>koi_fpflag_co</th>\n      <th>koi_fpflag_ec</th>\n      <th>koi_period</th>\n      <th>koi_period_err1</th>\n      <th>koi_period_err2</th>\n      <th>koi_time0bk</th>\n      <th>koi_time0bk_err1</th>\n      <th>koi_time0bk_err2</th>\n      <th>koi_impact</th>\n      <th>koi_impact_err1</th>\n      <th>koi_impact_err2</th>\n      <th>koi_duration</th>\n      <th>koi_duration_err1</th>\n      <th>koi_duration_err2</th>\n      <th>koi_depth</th>\n      <th>koi_depth_err1</th>\n      <th>koi_depth_err2</th>\n      <th>koi_prad</th>\n      <th>koi_prad_err1</th>\n      <th>koi_prad_err2</th>\n      <th>koi_teq</th>\n      <th>koi_insol</th>\n      <th>koi_insol_err1</th>\n      <th>koi_insol_err2</th>\n      <th>koi_model_snr</th>\n      <th>koi_tce_plnt_num</th>\n      <th>koi_steff</th>\n      <th>koi_steff_err1</th>\n      <th>koi_steff_err2</th>\n      <th>koi_slogg</th>\n      <th>koi_slogg_err1</th>\n      <th>koi_slogg_err2</th>\n      <th>koi_srad</th>\n      <th>koi_srad_err1</th>\n      <th>koi_srad_err2</th>\n      <th>ra</th>\n      <th>dec</th>\n      <th>koi_kepmag</th>\n    </tr>\n  </thead>\n  <tbody>\n    <tr>\n      <th>0</th>\n      <td>0</td>\n      <td>0</td>\n      <td>0</td>\n      <td>0</td>\n      <td>54.418383</td>\n      <td>2.479000e-04</td>\n      <td>-2.479000e-04</td>\n      <td>162.513840</td>\n      <td>0.003520</td>\n      <td>-0.003520</td>\n      <td>0.586</td>\n      <td>0.059</td>\n      <td>-0.443</td>\n      <td>4.50700</td>\n      <td>0.11600</td>\n      <td>-0.11600</td>\n      <td>874.8</td>\n      <td>35.5</td>\n      <td>-35.5</td>\n      <td>2.83</td>\n      <td>0.32</td>\n      <td>-0.19</td>\n      <td>443</td>\n      <td>9.11</td>\n      <td>2.87</td>\n      <td>-1.62</td>\n      <td>25.8</td>\n      <td>2</td>\n      <td>5455</td>\n      <td>81</td>\n      <td>-81</td>\n      <td>4.467</td>\n      <td>0.064</td>\n      <td>-0.096</td>\n      <td>0.927</td>\n      <td>0.105</td>\n      <td>-0.061</td>\n      <td>291.93423</td>\n      <td>48.141651</td>\n      <td>15.347</td>\n    </tr>\n    <tr>\n      <th>1</th>\n      <td>0</td>\n      <td>1</td>\n      <td>0</td>\n      <td>0</td>\n      <td>19.899140</td>\n      <td>1.490000e-05</td>\n      <td>-1.490000e-05</td>\n      <td>175.850252</td>\n      <td>0.000581</td>\n      <td>-0.000581</td>\n      <td>0.969</td>\n      <td>5.126</td>\n      <td>-0.077</td>\n      <td>1.78220</td>\n      <td>0.03410</td>\n      <td>-0.03410</td>\n      <td>10829.0</td>\n      <td>171.0</td>\n      <td>-171.0</td>\n      <td>14.60</td>\n      <td>3.92</td>\n      <td>-1.31</td>\n      <td>638</td>\n      <td>39.30</td>\n      <td>31.04</td>\n      <td>-10.49</td>\n      <td>76.3</td>\n      <td>1</td>\n      <td>5853</td>\n      <td>158</td>\n      <td>-176</td>\n      <td>4.544</td>\n      <td>0.044</td>\n      <td>-0.176</td>\n      <td>0.868</td>\n      <td>0.233</td>\n      <td>-0.078</td>\n      <td>297.00482</td>\n      <td>48.134129</td>\n      <td>15.436</td>\n    </tr>\n    <tr>\n      <th>2</th>\n      <td>0</td>\n      <td>1</td>\n      <td>0</td>\n      <td>0</td>\n      <td>1.736952</td>\n      <td>2.630000e-07</td>\n      <td>-2.630000e-07</td>\n      <td>170.307565</td>\n      <td>0.000115</td>\n      <td>-0.000115</td>\n      <td>1.276</td>\n      <td>0.115</td>\n      <td>-0.092</td>\n      <td>2.40641</td>\n      <td>0.00537</td>\n      <td>-0.00537</td>\n      <td>8079.2</td>\n      <td>12.8</td>\n      <td>-12.8</td>\n      <td>33.46</td>\n      <td>8.50</td>\n      <td>-2.83</td>\n      <td>1395</td>\n      <td>891.96</td>\n      <td>668.95</td>\n      <td>-230.35</td>\n      <td>505.6</td>\n      <td>1</td>\n      <td>5805</td>\n      <td>157</td>\n      <td>-174</td>\n      <td>4.564</td>\n      <td>0.053</td>\n      <td>-0.168</td>\n      <td>0.791</td>\n      <td>0.201</td>\n      <td>-0.067</td>\n      <td>285.53461</td>\n      <td>48.285210</td>\n      <td>15.597</td>\n    </tr>\n    <tr>\n      <th>3</th>\n      <td>0</td>\n      <td>0</td>\n      <td>0</td>\n      <td>0</td>\n      <td>2.525592</td>\n      <td>3.760000e-06</td>\n      <td>-3.760000e-06</td>\n      <td>171.595550</td>\n      <td>0.001130</td>\n      <td>-0.001130</td>\n      <td>0.701</td>\n      <td>0.235</td>\n      <td>-0.478</td>\n      <td>1.65450</td>\n      <td>0.04200</td>\n      <td>-0.04200</td>\n      <td>603.3</td>\n      <td>16.9</td>\n      <td>-16.9</td>\n      <td>2.75</td>\n      <td>0.88</td>\n      <td>-0.35</td>\n      <td>1406</td>\n      <td>926.16</td>\n      <td>874.33</td>\n      <td>-314.24</td>\n      <td>40.9</td>\n      <td>1</td>\n      <td>6031</td>\n      <td>169</td>\n      <td>-211</td>\n      <td>4.438</td>\n      <td>0.070</td>\n      <td>-0.210</td>\n      <td>1.046</td>\n      <td>0.334</td>\n      <td>-0.133</td>\n      <td>288.75488</td>\n      <td>48.226200</td>\n      <td>15.509</td>\n    </tr>\n    <tr>\n      <th>4</th>\n      <td>0</td>\n      <td>0</td>\n      <td>0</td>\n      <td>0</td>\n      <td>4.134435</td>\n      <td>1.050000e-05</td>\n      <td>-1.050000e-05</td>\n      <td>172.979370</td>\n      <td>0.001900</td>\n      <td>-0.001900</td>\n      <td>0.762</td>\n      <td>0.139</td>\n      <td>-0.532</td>\n      <td>3.14020</td>\n      <td>0.06730</td>\n      <td>-0.06730</td>\n      <td>686.0</td>\n      <td>18.7</td>\n      <td>-18.7</td>\n      <td>2.77</td>\n      <td>0.90</td>\n      <td>-0.30</td>\n      <td>1160</td>\n      <td>427.65</td>\n      <td>420.33</td>\n      <td>-136.70</td>\n      <td>40.2</td>\n      <td>2</td>\n      <td>6046</td>\n      <td>189</td>\n      <td>-232</td>\n      <td>4.486</td>\n      <td>0.054</td>\n      <td>-0.229</td>\n      <td>0.972</td>\n      <td>0.315</td>\n      <td>-0.105</td>\n      <td>296.28613</td>\n      <td>48.224670</td>\n      <td>15.714</td>\n    </tr>\n  </tbody>\n</table>\n</div>"
     },
     "metadata": {},
     "execution_count": 3
    }
   ],
   "source": [
    "# Set features. This will also be used as your x values.\n",
    "selected_features = df.iloc[:,1:]\n",
    "selected_features.head()"
   ]
  },
  {
   "cell_type": "markdown",
   "metadata": {},
   "source": [
    "# Create a Train Test Split\n",
    "\n",
    "Use `koi_disposition` for the y values"
   ]
  },
  {
   "cell_type": "code",
   "execution_count": 4,
   "metadata": {},
   "outputs": [],
   "source": [
    "from sklearn.model_selection import train_test_split\n",
    "X = selected_features\n",
    "y = df[\"koi_disposition\"]\n",
    "X_train, X_test, y_train, y_test = train_test_split(\n",
    "    X, y, random_state=1)"
   ]
  },
  {
   "cell_type": "code",
   "execution_count": 5,
   "metadata": {},
   "outputs": [
    {
     "output_type": "execute_result",
     "data": {
      "text/plain": [
       "      koi_fpflag_nt  koi_fpflag_ss  koi_fpflag_co  koi_fpflag_ec  koi_period  \\\n",
       "3563              0              0              0              0   10.548413   \n",
       "4099              0              0              0              0   24.754385   \n",
       "5460              0              0              0              0    1.057336   \n",
       "1091              0              0              0              0  201.118319   \n",
       "5999              0              0              0              0   91.649983   \n",
       "\n",
       "      koi_period_err1  koi_period_err2  koi_time0bk  koi_time0bk_err1  \\\n",
       "3563     5.470000e-05    -5.470000e-05   139.064020          0.004110   \n",
       "4099     1.365000e-04    -1.365000e-04   140.207320          0.004460   \n",
       "5460     1.230000e-07    -1.230000e-07   131.792007          0.000096   \n",
       "1091     1.461000e-03    -1.461000e-03   187.569860          0.005290   \n",
       "5999     3.181000e-03    -3.181000e-03   175.715600          0.028600   \n",
       "\n",
       "      koi_time0bk_err2  koi_impact  koi_impact_err1  koi_impact_err2  \\\n",
       "3563         -0.004110      1.0170           0.0470          -0.7860   \n",
       "4099         -0.004460      0.7090           0.0230          -0.5160   \n",
       "5460         -0.000096      0.2620           0.2740          -0.1130   \n",
       "1091         -0.005290      0.0010           0.4170          -0.0010   \n",
       "5999         -0.028600      0.2136           0.2282          -0.2135   \n",
       "\n",
       "      koi_duration  koi_duration_err1  koi_duration_err2  koi_depth  \\\n",
       "3563        1.8720             0.1430            -0.1430      102.9   \n",
       "4099        3.3900             0.1530            -0.1530      593.3   \n",
       "5460        1.5795             0.0152            -0.0152    47337.0   \n",
       "1091       10.3280             0.1650            -0.1650      584.8   \n",
       "5999       10.2940             0.9390            -0.9390      193.6   \n",
       "\n",
       "      koi_depth_err1  koi_depth_err2  koi_prad  koi_prad_err1  koi_prad_err2  \\\n",
       "3563            10.4           -10.4      3.89           0.65          -0.34   \n",
       "4099            38.0           -38.0      2.10           0.14          -0.20   \n",
       "5460           120.0          -120.0     14.59           1.15          -1.28   \n",
       "1091            19.2           -19.2      2.28           0.32          -0.20   \n",
       "5999            23.9           -23.9      2.27           1.27          -0.54   \n",
       "\n",
       "      koi_teq  koi_insol  koi_insol_err1  koi_insol_err2  koi_model_snr  \\\n",
       "3563      899     154.84           72.78          -37.23           11.7   \n",
       "4099      491      13.70            3.92           -3.75           18.0   \n",
       "5460     1276     623.51          184.18         -164.28          476.0   \n",
       "1091      300       1.92            0.77           -0.44           34.7   \n",
       "5999      568      24.57           41.53          -12.19            8.7   \n",
       "\n",
       "      koi_tce_plnt_num  koi_steff  koi_steff_err1  koi_steff_err2  koi_slogg  \\\n",
       "3563                 2       6047             120            -133      4.387   \n",
       "4099                 1       4852             144            -144      4.519   \n",
       "5460                 1       4664             126            -140      4.594   \n",
       "1091                 1       5646             101            -112      4.447   \n",
       "5999                 2       6705             164            -233      4.145   \n",
       "\n",
       "      koi_slogg_err1  koi_slogg_err2  koi_srad  koi_srad_err1  koi_srad_err2  \\\n",
       "3563           0.066          -0.123     1.092          0.181         -0.097   \n",
       "4099           0.078          -0.052     0.804          0.056         -0.076   \n",
       "5460           0.054          -0.027     0.683          0.054         -0.060   \n",
       "1091           0.072          -0.108     0.954          0.135         -0.083   \n",
       "5999           0.164          -0.164     1.608          0.905         -0.383   \n",
       "\n",
       "             ra        dec  koi_kepmag  \n",
       "3563  298.09543  44.737061      13.204  \n",
       "4099  295.73535  42.576248      15.514  \n",
       "5460  292.18417  49.310040      15.414  \n",
       "1091  283.11377  48.131390      13.328  \n",
       "5999  294.93198  39.812420      12.964  "
      ],
      "text/html": "<div>\n<style scoped>\n    .dataframe tbody tr th:only-of-type {\n        vertical-align: middle;\n    }\n\n    .dataframe tbody tr th {\n        vertical-align: top;\n    }\n\n    .dataframe thead th {\n        text-align: right;\n    }\n</style>\n<table border=\"1\" class=\"dataframe\">\n  <thead>\n    <tr style=\"text-align: right;\">\n      <th></th>\n      <th>koi_fpflag_nt</th>\n      <th>koi_fpflag_ss</th>\n      <th>koi_fpflag_co</th>\n      <th>koi_fpflag_ec</th>\n      <th>koi_period</th>\n      <th>koi_period_err1</th>\n      <th>koi_period_err2</th>\n      <th>koi_time0bk</th>\n      <th>koi_time0bk_err1</th>\n      <th>koi_time0bk_err2</th>\n      <th>koi_impact</th>\n      <th>koi_impact_err1</th>\n      <th>koi_impact_err2</th>\n      <th>koi_duration</th>\n      <th>koi_duration_err1</th>\n      <th>koi_duration_err2</th>\n      <th>koi_depth</th>\n      <th>koi_depth_err1</th>\n      <th>koi_depth_err2</th>\n      <th>koi_prad</th>\n      <th>koi_prad_err1</th>\n      <th>koi_prad_err2</th>\n      <th>koi_teq</th>\n      <th>koi_insol</th>\n      <th>koi_insol_err1</th>\n      <th>koi_insol_err2</th>\n      <th>koi_model_snr</th>\n      <th>koi_tce_plnt_num</th>\n      <th>koi_steff</th>\n      <th>koi_steff_err1</th>\n      <th>koi_steff_err2</th>\n      <th>koi_slogg</th>\n      <th>koi_slogg_err1</th>\n      <th>koi_slogg_err2</th>\n      <th>koi_srad</th>\n      <th>koi_srad_err1</th>\n      <th>koi_srad_err2</th>\n      <th>ra</th>\n      <th>dec</th>\n      <th>koi_kepmag</th>\n    </tr>\n  </thead>\n  <tbody>\n    <tr>\n      <th>3563</th>\n      <td>0</td>\n      <td>0</td>\n      <td>0</td>\n      <td>0</td>\n      <td>10.548413</td>\n      <td>5.470000e-05</td>\n      <td>-5.470000e-05</td>\n      <td>139.064020</td>\n      <td>0.004110</td>\n      <td>-0.004110</td>\n      <td>1.0170</td>\n      <td>0.0470</td>\n      <td>-0.7860</td>\n      <td>1.8720</td>\n      <td>0.1430</td>\n      <td>-0.1430</td>\n      <td>102.9</td>\n      <td>10.4</td>\n      <td>-10.4</td>\n      <td>3.89</td>\n      <td>0.65</td>\n      <td>-0.34</td>\n      <td>899</td>\n      <td>154.84</td>\n      <td>72.78</td>\n      <td>-37.23</td>\n      <td>11.7</td>\n      <td>2</td>\n      <td>6047</td>\n      <td>120</td>\n      <td>-133</td>\n      <td>4.387</td>\n      <td>0.066</td>\n      <td>-0.123</td>\n      <td>1.092</td>\n      <td>0.181</td>\n      <td>-0.097</td>\n      <td>298.09543</td>\n      <td>44.737061</td>\n      <td>13.204</td>\n    </tr>\n    <tr>\n      <th>4099</th>\n      <td>0</td>\n      <td>0</td>\n      <td>0</td>\n      <td>0</td>\n      <td>24.754385</td>\n      <td>1.365000e-04</td>\n      <td>-1.365000e-04</td>\n      <td>140.207320</td>\n      <td>0.004460</td>\n      <td>-0.004460</td>\n      <td>0.7090</td>\n      <td>0.0230</td>\n      <td>-0.5160</td>\n      <td>3.3900</td>\n      <td>0.1530</td>\n      <td>-0.1530</td>\n      <td>593.3</td>\n      <td>38.0</td>\n      <td>-38.0</td>\n      <td>2.10</td>\n      <td>0.14</td>\n      <td>-0.20</td>\n      <td>491</td>\n      <td>13.70</td>\n      <td>3.92</td>\n      <td>-3.75</td>\n      <td>18.0</td>\n      <td>1</td>\n      <td>4852</td>\n      <td>144</td>\n      <td>-144</td>\n      <td>4.519</td>\n      <td>0.078</td>\n      <td>-0.052</td>\n      <td>0.804</td>\n      <td>0.056</td>\n      <td>-0.076</td>\n      <td>295.73535</td>\n      <td>42.576248</td>\n      <td>15.514</td>\n    </tr>\n    <tr>\n      <th>5460</th>\n      <td>0</td>\n      <td>0</td>\n      <td>0</td>\n      <td>0</td>\n      <td>1.057336</td>\n      <td>1.230000e-07</td>\n      <td>-1.230000e-07</td>\n      <td>131.792007</td>\n      <td>0.000096</td>\n      <td>-0.000096</td>\n      <td>0.2620</td>\n      <td>0.2740</td>\n      <td>-0.1130</td>\n      <td>1.5795</td>\n      <td>0.0152</td>\n      <td>-0.0152</td>\n      <td>47337.0</td>\n      <td>120.0</td>\n      <td>-120.0</td>\n      <td>14.59</td>\n      <td>1.15</td>\n      <td>-1.28</td>\n      <td>1276</td>\n      <td>623.51</td>\n      <td>184.18</td>\n      <td>-164.28</td>\n      <td>476.0</td>\n      <td>1</td>\n      <td>4664</td>\n      <td>126</td>\n      <td>-140</td>\n      <td>4.594</td>\n      <td>0.054</td>\n      <td>-0.027</td>\n      <td>0.683</td>\n      <td>0.054</td>\n      <td>-0.060</td>\n      <td>292.18417</td>\n      <td>49.310040</td>\n      <td>15.414</td>\n    </tr>\n    <tr>\n      <th>1091</th>\n      <td>0</td>\n      <td>0</td>\n      <td>0</td>\n      <td>0</td>\n      <td>201.118319</td>\n      <td>1.461000e-03</td>\n      <td>-1.461000e-03</td>\n      <td>187.569860</td>\n      <td>0.005290</td>\n      <td>-0.005290</td>\n      <td>0.0010</td>\n      <td>0.4170</td>\n      <td>-0.0010</td>\n      <td>10.3280</td>\n      <td>0.1650</td>\n      <td>-0.1650</td>\n      <td>584.8</td>\n      <td>19.2</td>\n      <td>-19.2</td>\n      <td>2.28</td>\n      <td>0.32</td>\n      <td>-0.20</td>\n      <td>300</td>\n      <td>1.92</td>\n      <td>0.77</td>\n      <td>-0.44</td>\n      <td>34.7</td>\n      <td>1</td>\n      <td>5646</td>\n      <td>101</td>\n      <td>-112</td>\n      <td>4.447</td>\n      <td>0.072</td>\n      <td>-0.108</td>\n      <td>0.954</td>\n      <td>0.135</td>\n      <td>-0.083</td>\n      <td>283.11377</td>\n      <td>48.131390</td>\n      <td>13.328</td>\n    </tr>\n    <tr>\n      <th>5999</th>\n      <td>0</td>\n      <td>0</td>\n      <td>0</td>\n      <td>0</td>\n      <td>91.649983</td>\n      <td>3.181000e-03</td>\n      <td>-3.181000e-03</td>\n      <td>175.715600</td>\n      <td>0.028600</td>\n      <td>-0.028600</td>\n      <td>0.2136</td>\n      <td>0.2282</td>\n      <td>-0.2135</td>\n      <td>10.2940</td>\n      <td>0.9390</td>\n      <td>-0.9390</td>\n      <td>193.6</td>\n      <td>23.9</td>\n      <td>-23.9</td>\n      <td>2.27</td>\n      <td>1.27</td>\n      <td>-0.54</td>\n      <td>568</td>\n      <td>24.57</td>\n      <td>41.53</td>\n      <td>-12.19</td>\n      <td>8.7</td>\n      <td>2</td>\n      <td>6705</td>\n      <td>164</td>\n      <td>-233</td>\n      <td>4.145</td>\n      <td>0.164</td>\n      <td>-0.164</td>\n      <td>1.608</td>\n      <td>0.905</td>\n      <td>-0.383</td>\n      <td>294.93198</td>\n      <td>39.812420</td>\n      <td>12.964</td>\n    </tr>\n  </tbody>\n</table>\n</div>"
     },
     "metadata": {},
     "execution_count": 5
    }
   ],
   "source": [
    "X_train.head()"
   ]
  },
  {
   "cell_type": "markdown",
   "metadata": {},
   "source": [
    "# Pre-processing\n",
    "\n",
    "Scale the data using the MinMaxScaler and perform some feature selection"
   ]
  },
  {
   "cell_type": "code",
   "execution_count": 6,
   "metadata": {},
   "outputs": [],
   "source": [
    "# Scale your data\n",
    "from sklearn.preprocessing import MinMaxScaler\n",
    "X_scaler = MinMaxScaler().fit(X_train)\n",
    "X_train_scaled = X_scaler.transform(X_train)\n",
    "X_test_scaled = X_scaler.transform(X_test)"
   ]
  },
  {
   "cell_type": "code",
   "execution_count": 22,
   "metadata": {},
   "outputs": [
    {
     "output_type": "stream",
     "name": "stdout",
     "text": [
      "linear\n",
      "0.8558352402745996\n",
      "##########\n",
      "rbf\n",
      "0.8455377574370709\n",
      "##########\n",
      "poly\n",
      "0.8569794050343249\n",
      "##########\n",
      "sigmoid\n",
      "0.7871853546910755\n",
      "##########\n"
     ]
    }
   ],
   "source": [
    "from sklearn.svm import SVC \n",
    "kernels = [\"linear\",\"rbf\",\"poly\",\"sigmoid\"]\n",
    "for ker in kernels:\n",
    "    model = SVC(kernel=ker,decision_function_shape='ovo')\n",
    "    model.fit(X_train_scaled,y_train)\n",
    "    print(ker)\n",
    "    print(model.score(X_test_scaled, y_test))\n",
    "    print(\"#\"*10)"
   ]
  },
  {
   "cell_type": "code",
   "execution_count": 23,
   "metadata": {},
   "outputs": [],
   "source": [
    "model = SVC(decision_function_shape='ovo')"
   ]
  },
  {
   "cell_type": "markdown",
   "metadata": {},
   "source": [
    "# Train the Model\n",
    "\n"
   ]
  },
  {
   "cell_type": "markdown",
   "metadata": {},
   "source": [
    "# Hyperparameter Tuning\n",
    "\n",
    "Use `GridSearchCV` to tune the model's parameters"
   ]
  },
  {
   "cell_type": "code",
   "execution_count": 24,
   "metadata": {},
   "outputs": [],
   "source": [
    "# Create the GridSearchCV model\n",
    "from sklearn.model_selection import GridSearchCV\n",
    "param_grid = {'C': [0.1,1, 5, 10,50],\n",
    "              'gamma': [0.0001, 0.001, 0.01,0.1,1,5],'kernel': ['linear','rbf', 'poly', 'sigmoid']}\n",
    "grid = GridSearchCV(model, param_grid, verbose=3,n_jobs=-1)"
   ]
  },
  {
   "cell_type": "code",
   "execution_count": 25,
   "metadata": {},
   "outputs": [
    {
     "output_type": "stream",
     "name": "stdout",
     "text": [
      "Fitting 5 folds for each of 144 candidates, totalling 720 fits\n",
      "[Parallel(n_jobs=-1)]: Using backend LokyBackend with 12 concurrent workers.\n",
      "[Parallel(n_jobs=-1)]: Done   8 tasks      | elapsed:    2.7s\n",
      "[Parallel(n_jobs=-1)]: Done 104 tasks      | elapsed:   15.3s\n",
      "[Parallel(n_jobs=-1)]: Done 264 tasks      | elapsed:   38.0s\n",
      "[Parallel(n_jobs=-1)]: Done 488 tasks      | elapsed:  1.9min\n",
      "[Parallel(n_jobs=-1)]: Done 720 out of 720 | elapsed: 37.4min finished\n"
     ]
    },
    {
     "output_type": "execute_result",
     "data": {
      "text/plain": [
       "GridSearchCV(estimator=SVC(decision_function_shape='ovo'), n_jobs=-1,\n",
       "             param_grid={'C': [0.1, 1, 5, 10, 50, 100],\n",
       "                         'gamma': [0.0001, 0.001, 0.01, 0.1, 1, 5],\n",
       "                         'kernel': ['linear', 'rbf', 'poly', 'sigmoid']},\n",
       "             verbose=3)"
      ]
     },
     "metadata": {},
     "execution_count": 25
    }
   ],
   "source": [
    "# Train the model with GridSearch\n",
    "grid.fit(X_train_scaled, y_train)"
   ]
  },
  {
   "cell_type": "code",
   "execution_count": 26,
   "metadata": {},
   "outputs": [
    {
     "output_type": "stream",
     "name": "stdout",
     "text": [
      "{'C': 5, 'gamma': 1, 'kernel': 'poly'}\n0.8846069320836275\n"
     ]
    }
   ],
   "source": [
    "print(grid.best_params_)\n",
    "print(grid.best_score_)"
   ]
  },
  {
   "cell_type": "markdown",
   "metadata": {},
   "source": [
    "# Save the Model"
   ]
  },
  {
   "cell_type": "code",
   "execution_count": 28,
   "metadata": {},
   "outputs": [
    {
     "output_type": "stream",
     "name": "stdout",
     "text": [
      "0.8998855835240275\n                precision    recall  f1-score   support\n\n     CONFIRMED       0.85      0.74      0.79       404\nFALSE POSITIVE       0.77      0.88      0.82       435\n     CANDIDATE       0.99      0.98      0.99       909\n\n      accuracy                           0.90      1748\n     macro avg       0.87      0.87      0.87      1748\n  weighted avg       0.90      0.90      0.90      1748\n\n"
     ]
    }
   ],
   "source": [
    "from sklearn.metrics import classification_report\n",
    "final_model = SVC(kernel='poly',C=5,gamma=1,decision_function_shape='ovo')\n",
    "final_model.fit(X_train_scaled, y_train)\n",
    "pred = final_model.predict(X_test_scaled)\n",
    "print(final_model.score(X_test_scaled,y_test))\n",
    "print(classification_report(y_test, pred,\n",
    "                            target_names=list(y.unique())))"
   ]
  },
  {
   "cell_type": "code",
   "execution_count": 29,
   "metadata": {},
   "outputs": [
    {
     "output_type": "execute_result",
     "data": {
      "text/plain": [
       "['../models/SVC_exoplanet.sav']"
      ]
     },
     "metadata": {},
     "execution_count": 29
    }
   ],
   "source": [
    "# save your model by updating \"your_name\" with your name\n",
    "# and \"your_model\" with your model variable\n",
    "# be sure to turn this in to BCS\n",
    "# if joblib fails to import, try running the command to install in terminal/git-bash\n",
    "import joblib\n",
    "filename = '../models/SVC_exoplanet.sav'\n",
    "joblib.dump(final_model, filename)"
   ]
  },
  {
   "cell_type": "code",
   "execution_count": null,
   "metadata": {},
   "outputs": [],
   "source": []
  }
 ],
 "metadata": {
  "kernel_info": {
   "name": "dev"
  },
  "kernelspec": {
   "name": "python3",
   "display_name": "Python 3.8.5 64-bit ('base': conda)",
   "metadata": {
    "interpreter": {
     "hash": "dca0ade3e726a953b501b15e8e990130d2b7799f14cfd9f4271676035ebe5511"
    }
   }
  },
  "language_info": {
   "codemirror_mode": {
    "name": "ipython",
    "version": 3
   },
   "file_extension": ".py",
   "mimetype": "text/x-python",
   "name": "python",
   "nbconvert_exporter": "python",
   "pygments_lexer": "ipython3",
   "version": "3.8.5-final"
  },
  "nteract": {
   "version": "0.12.3"
  }
 },
 "nbformat": 4,
 "nbformat_minor": 2
}