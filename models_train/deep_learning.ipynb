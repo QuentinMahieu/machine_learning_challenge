{
 "cells": [
  {
   "cell_type": "code",
   "execution_count": 1,
   "metadata": {},
   "outputs": [
    {
     "output_type": "stream",
     "name": "stdout",
     "text": [
      "Requirement already satisfied: sklearn in /opt/anaconda3/lib/python3.8/site-packages (0.0)\n",
      "Collecting sklearn\n",
      "  Using cached sklearn-0.0-py2.py3-none-any.whl\n",
      "Requirement already satisfied: scikit-learn in /opt/anaconda3/lib/python3.8/site-packages (from sklearn) (0.23.2)\n",
      "Requirement already satisfied: numpy>=1.13.3 in /opt/anaconda3/lib/python3.8/site-packages (from scikit-learn->sklearn) (1.19.2)\n",
      "Requirement already satisfied: threadpoolctl>=2.0.0 in /opt/anaconda3/lib/python3.8/site-packages (from scikit-learn->sklearn) (2.1.0)\n",
      "Requirement already satisfied: joblib>=0.11 in /opt/anaconda3/lib/python3.8/site-packages (from scikit-learn->sklearn) (1.0.0)\n",
      "Requirement already satisfied: scipy>=0.19.1 in /opt/anaconda3/lib/python3.8/site-packages (from scikit-learn->sklearn) (1.5.2)\n"
     ]
    }
   ],
   "source": [
    "# Update sklearn to prevent version mismatches\n",
    "import sys\n",
    "!{sys.executable} -m pip install sklearn --upgrade"
   ]
  },
  {
   "cell_type": "code",
   "execution_count": 2,
   "metadata": {},
   "outputs": [
    {
     "output_type": "stream",
     "name": "stdout",
     "text": [
      "Requirement already satisfied: joblib in /opt/anaconda3/lib/python3.8/site-packages (1.0.0)\n"
     ]
    }
   ],
   "source": [
    "# install joblib. This will be used to save your model. \n",
    "# Restart your kernel after installing \n",
    "!pip install joblib"
   ]
  },
  {
   "cell_type": "code",
   "execution_count": 8,
   "metadata": {},
   "outputs": [],
   "source": [
    "import pandas as pd\n",
    "import numpy as np\n",
    "pd.set_option('display.max_columns', None)"
   ]
  },
  {
   "cell_type": "code",
   "execution_count": 9,
   "metadata": {},
   "outputs": [
    {
     "output_type": "execute_result",
     "data": {
      "text/plain": [
       "  koi_disposition  koi_fpflag_nt  koi_fpflag_ss  koi_fpflag_co  koi_fpflag_ec  \\\n",
       "0       CONFIRMED              0              0              0              0   \n",
       "1  FALSE POSITIVE              0              1              0              0   \n",
       "2  FALSE POSITIVE              0              1              0              0   \n",
       "3       CONFIRMED              0              0              0              0   \n",
       "4       CONFIRMED              0              0              0              0   \n",
       "\n",
       "   koi_period  koi_period_err1  koi_period_err2  koi_time0bk  \\\n",
       "0   54.418383     2.479000e-04    -2.479000e-04   162.513840   \n",
       "1   19.899140     1.490000e-05    -1.490000e-05   175.850252   \n",
       "2    1.736952     2.630000e-07    -2.630000e-07   170.307565   \n",
       "3    2.525592     3.760000e-06    -3.760000e-06   171.595550   \n",
       "4    4.134435     1.050000e-05    -1.050000e-05   172.979370   \n",
       "\n",
       "   koi_time0bk_err1  koi_time0bk_err2  koi_impact  koi_impact_err1  \\\n",
       "0          0.003520         -0.003520       0.586            0.059   \n",
       "1          0.000581         -0.000581       0.969            5.126   \n",
       "2          0.000115         -0.000115       1.276            0.115   \n",
       "3          0.001130         -0.001130       0.701            0.235   \n",
       "4          0.001900         -0.001900       0.762            0.139   \n",
       "\n",
       "   koi_impact_err2  koi_duration  koi_duration_err1  koi_duration_err2  \\\n",
       "0           -0.443       4.50700            0.11600           -0.11600   \n",
       "1           -0.077       1.78220            0.03410           -0.03410   \n",
       "2           -0.092       2.40641            0.00537           -0.00537   \n",
       "3           -0.478       1.65450            0.04200           -0.04200   \n",
       "4           -0.532       3.14020            0.06730           -0.06730   \n",
       "\n",
       "   koi_depth  koi_depth_err1  koi_depth_err2  koi_prad  koi_prad_err1  \\\n",
       "0      874.8            35.5           -35.5      2.83           0.32   \n",
       "1    10829.0           171.0          -171.0     14.60           3.92   \n",
       "2     8079.2            12.8           -12.8     33.46           8.50   \n",
       "3      603.3            16.9           -16.9      2.75           0.88   \n",
       "4      686.0            18.7           -18.7      2.77           0.90   \n",
       "\n",
       "   koi_prad_err2  koi_teq  koi_insol  koi_insol_err1  koi_insol_err2  \\\n",
       "0          -0.19      443       9.11            2.87           -1.62   \n",
       "1          -1.31      638      39.30           31.04          -10.49   \n",
       "2          -2.83     1395     891.96          668.95         -230.35   \n",
       "3          -0.35     1406     926.16          874.33         -314.24   \n",
       "4          -0.30     1160     427.65          420.33         -136.70   \n",
       "\n",
       "   koi_model_snr  koi_tce_plnt_num  koi_steff  koi_steff_err1  koi_steff_err2  \\\n",
       "0           25.8                 2       5455              81             -81   \n",
       "1           76.3                 1       5853             158            -176   \n",
       "2          505.6                 1       5805             157            -174   \n",
       "3           40.9                 1       6031             169            -211   \n",
       "4           40.2                 2       6046             189            -232   \n",
       "\n",
       "   koi_slogg  koi_slogg_err1  koi_slogg_err2  koi_srad  koi_srad_err1  \\\n",
       "0      4.467           0.064          -0.096     0.927          0.105   \n",
       "1      4.544           0.044          -0.176     0.868          0.233   \n",
       "2      4.564           0.053          -0.168     0.791          0.201   \n",
       "3      4.438           0.070          -0.210     1.046          0.334   \n",
       "4      4.486           0.054          -0.229     0.972          0.315   \n",
       "\n",
       "   koi_srad_err2         ra        dec  koi_kepmag  \n",
       "0         -0.061  291.93423  48.141651      15.347  \n",
       "1         -0.078  297.00482  48.134129      15.436  \n",
       "2         -0.067  285.53461  48.285210      15.597  \n",
       "3         -0.133  288.75488  48.226200      15.509  \n",
       "4         -0.105  296.28613  48.224670      15.714  "
      ],
      "text/html": "<div>\n<style scoped>\n    .dataframe tbody tr th:only-of-type {\n        vertical-align: middle;\n    }\n\n    .dataframe tbody tr th {\n        vertical-align: top;\n    }\n\n    .dataframe thead th {\n        text-align: right;\n    }\n</style>\n<table border=\"1\" class=\"dataframe\">\n  <thead>\n    <tr style=\"text-align: right;\">\n      <th></th>\n      <th>koi_disposition</th>\n      <th>koi_fpflag_nt</th>\n      <th>koi_fpflag_ss</th>\n      <th>koi_fpflag_co</th>\n      <th>koi_fpflag_ec</th>\n      <th>koi_period</th>\n      <th>koi_period_err1</th>\n      <th>koi_period_err2</th>\n      <th>koi_time0bk</th>\n      <th>koi_time0bk_err1</th>\n      <th>koi_time0bk_err2</th>\n      <th>koi_impact</th>\n      <th>koi_impact_err1</th>\n      <th>koi_impact_err2</th>\n      <th>koi_duration</th>\n      <th>koi_duration_err1</th>\n      <th>koi_duration_err2</th>\n      <th>koi_depth</th>\n      <th>koi_depth_err1</th>\n      <th>koi_depth_err2</th>\n      <th>koi_prad</th>\n      <th>koi_prad_err1</th>\n      <th>koi_prad_err2</th>\n      <th>koi_teq</th>\n      <th>koi_insol</th>\n      <th>koi_insol_err1</th>\n      <th>koi_insol_err2</th>\n      <th>koi_model_snr</th>\n      <th>koi_tce_plnt_num</th>\n      <th>koi_steff</th>\n      <th>koi_steff_err1</th>\n      <th>koi_steff_err2</th>\n      <th>koi_slogg</th>\n      <th>koi_slogg_err1</th>\n      <th>koi_slogg_err2</th>\n      <th>koi_srad</th>\n      <th>koi_srad_err1</th>\n      <th>koi_srad_err2</th>\n      <th>ra</th>\n      <th>dec</th>\n      <th>koi_kepmag</th>\n    </tr>\n  </thead>\n  <tbody>\n    <tr>\n      <th>0</th>\n      <td>CONFIRMED</td>\n      <td>0</td>\n      <td>0</td>\n      <td>0</td>\n      <td>0</td>\n      <td>54.418383</td>\n      <td>2.479000e-04</td>\n      <td>-2.479000e-04</td>\n      <td>162.513840</td>\n      <td>0.003520</td>\n      <td>-0.003520</td>\n      <td>0.586</td>\n      <td>0.059</td>\n      <td>-0.443</td>\n      <td>4.50700</td>\n      <td>0.11600</td>\n      <td>-0.11600</td>\n      <td>874.8</td>\n      <td>35.5</td>\n      <td>-35.5</td>\n      <td>2.83</td>\n      <td>0.32</td>\n      <td>-0.19</td>\n      <td>443</td>\n      <td>9.11</td>\n      <td>2.87</td>\n      <td>-1.62</td>\n      <td>25.8</td>\n      <td>2</td>\n      <td>5455</td>\n      <td>81</td>\n      <td>-81</td>\n      <td>4.467</td>\n      <td>0.064</td>\n      <td>-0.096</td>\n      <td>0.927</td>\n      <td>0.105</td>\n      <td>-0.061</td>\n      <td>291.93423</td>\n      <td>48.141651</td>\n      <td>15.347</td>\n    </tr>\n    <tr>\n      <th>1</th>\n      <td>FALSE POSITIVE</td>\n      <td>0</td>\n      <td>1</td>\n      <td>0</td>\n      <td>0</td>\n      <td>19.899140</td>\n      <td>1.490000e-05</td>\n      <td>-1.490000e-05</td>\n      <td>175.850252</td>\n      <td>0.000581</td>\n      <td>-0.000581</td>\n      <td>0.969</td>\n      <td>5.126</td>\n      <td>-0.077</td>\n      <td>1.78220</td>\n      <td>0.03410</td>\n      <td>-0.03410</td>\n      <td>10829.0</td>\n      <td>171.0</td>\n      <td>-171.0</td>\n      <td>14.60</td>\n      <td>3.92</td>\n      <td>-1.31</td>\n      <td>638</td>\n      <td>39.30</td>\n      <td>31.04</td>\n      <td>-10.49</td>\n      <td>76.3</td>\n      <td>1</td>\n      <td>5853</td>\n      <td>158</td>\n      <td>-176</td>\n      <td>4.544</td>\n      <td>0.044</td>\n      <td>-0.176</td>\n      <td>0.868</td>\n      <td>0.233</td>\n      <td>-0.078</td>\n      <td>297.00482</td>\n      <td>48.134129</td>\n      <td>15.436</td>\n    </tr>\n    <tr>\n      <th>2</th>\n      <td>FALSE POSITIVE</td>\n      <td>0</td>\n      <td>1</td>\n      <td>0</td>\n      <td>0</td>\n      <td>1.736952</td>\n      <td>2.630000e-07</td>\n      <td>-2.630000e-07</td>\n      <td>170.307565</td>\n      <td>0.000115</td>\n      <td>-0.000115</td>\n      <td>1.276</td>\n      <td>0.115</td>\n      <td>-0.092</td>\n      <td>2.40641</td>\n      <td>0.00537</td>\n      <td>-0.00537</td>\n      <td>8079.2</td>\n      <td>12.8</td>\n      <td>-12.8</td>\n      <td>33.46</td>\n      <td>8.50</td>\n      <td>-2.83</td>\n      <td>1395</td>\n      <td>891.96</td>\n      <td>668.95</td>\n      <td>-230.35</td>\n      <td>505.6</td>\n      <td>1</td>\n      <td>5805</td>\n      <td>157</td>\n      <td>-174</td>\n      <td>4.564</td>\n      <td>0.053</td>\n      <td>-0.168</td>\n      <td>0.791</td>\n      <td>0.201</td>\n      <td>-0.067</td>\n      <td>285.53461</td>\n      <td>48.285210</td>\n      <td>15.597</td>\n    </tr>\n    <tr>\n      <th>3</th>\n      <td>CONFIRMED</td>\n      <td>0</td>\n      <td>0</td>\n      <td>0</td>\n      <td>0</td>\n      <td>2.525592</td>\n      <td>3.760000e-06</td>\n      <td>-3.760000e-06</td>\n      <td>171.595550</td>\n      <td>0.001130</td>\n      <td>-0.001130</td>\n      <td>0.701</td>\n      <td>0.235</td>\n      <td>-0.478</td>\n      <td>1.65450</td>\n      <td>0.04200</td>\n      <td>-0.04200</td>\n      <td>603.3</td>\n      <td>16.9</td>\n      <td>-16.9</td>\n      <td>2.75</td>\n      <td>0.88</td>\n      <td>-0.35</td>\n      <td>1406</td>\n      <td>926.16</td>\n      <td>874.33</td>\n      <td>-314.24</td>\n      <td>40.9</td>\n      <td>1</td>\n      <td>6031</td>\n      <td>169</td>\n      <td>-211</td>\n      <td>4.438</td>\n      <td>0.070</td>\n      <td>-0.210</td>\n      <td>1.046</td>\n      <td>0.334</td>\n      <td>-0.133</td>\n      <td>288.75488</td>\n      <td>48.226200</td>\n      <td>15.509</td>\n    </tr>\n    <tr>\n      <th>4</th>\n      <td>CONFIRMED</td>\n      <td>0</td>\n      <td>0</td>\n      <td>0</td>\n      <td>0</td>\n      <td>4.134435</td>\n      <td>1.050000e-05</td>\n      <td>-1.050000e-05</td>\n      <td>172.979370</td>\n      <td>0.001900</td>\n      <td>-0.001900</td>\n      <td>0.762</td>\n      <td>0.139</td>\n      <td>-0.532</td>\n      <td>3.14020</td>\n      <td>0.06730</td>\n      <td>-0.06730</td>\n      <td>686.0</td>\n      <td>18.7</td>\n      <td>-18.7</td>\n      <td>2.77</td>\n      <td>0.90</td>\n      <td>-0.30</td>\n      <td>1160</td>\n      <td>427.65</td>\n      <td>420.33</td>\n      <td>-136.70</td>\n      <td>40.2</td>\n      <td>2</td>\n      <td>6046</td>\n      <td>189</td>\n      <td>-232</td>\n      <td>4.486</td>\n      <td>0.054</td>\n      <td>-0.229</td>\n      <td>0.972</td>\n      <td>0.315</td>\n      <td>-0.105</td>\n      <td>296.28613</td>\n      <td>48.224670</td>\n      <td>15.714</td>\n    </tr>\n  </tbody>\n</table>\n</div>"
     },
     "metadata": {},
     "execution_count": 9
    }
   ],
   "source": [
    "df = pd.read_csv(\"exoplanet_data.csv\")\n",
    "# Drop the null columns where all values are null\n",
    "df = df.dropna(axis='columns', how='all')\n",
    "# Drop the null rows\n",
    "df = df.dropna()\n",
    "df.head()"
   ]
  },
  {
   "cell_type": "markdown",
   "metadata": {},
   "source": [
    "# Read the CSV and Perform Basic Data Cleaning"
   ]
  },
  {
   "cell_type": "markdown",
   "metadata": {},
   "source": [
    "# Select your features (columns)"
   ]
  },
  {
   "cell_type": "code",
   "execution_count": 10,
   "metadata": {},
   "outputs": [
    {
     "output_type": "execute_result",
     "data": {
      "text/plain": [
       "   koi_fpflag_nt  koi_fpflag_ss  koi_fpflag_co  koi_fpflag_ec  koi_period  \\\n",
       "0              0              0              0              0   54.418383   \n",
       "1              0              1              0              0   19.899140   \n",
       "2              0              1              0              0    1.736952   \n",
       "3              0              0              0              0    2.525592   \n",
       "4              0              0              0              0    4.134435   \n",
       "\n",
       "   koi_period_err1  koi_period_err2  koi_time0bk  koi_time0bk_err1  \\\n",
       "0     2.479000e-04    -2.479000e-04   162.513840          0.003520   \n",
       "1     1.490000e-05    -1.490000e-05   175.850252          0.000581   \n",
       "2     2.630000e-07    -2.630000e-07   170.307565          0.000115   \n",
       "3     3.760000e-06    -3.760000e-06   171.595550          0.001130   \n",
       "4     1.050000e-05    -1.050000e-05   172.979370          0.001900   \n",
       "\n",
       "   koi_time0bk_err2  koi_impact  koi_impact_err1  koi_impact_err2  \\\n",
       "0         -0.003520       0.586            0.059           -0.443   \n",
       "1         -0.000581       0.969            5.126           -0.077   \n",
       "2         -0.000115       1.276            0.115           -0.092   \n",
       "3         -0.001130       0.701            0.235           -0.478   \n",
       "4         -0.001900       0.762            0.139           -0.532   \n",
       "\n",
       "   koi_duration  koi_duration_err1  koi_duration_err2  koi_depth  \\\n",
       "0       4.50700            0.11600           -0.11600      874.8   \n",
       "1       1.78220            0.03410           -0.03410    10829.0   \n",
       "2       2.40641            0.00537           -0.00537     8079.2   \n",
       "3       1.65450            0.04200           -0.04200      603.3   \n",
       "4       3.14020            0.06730           -0.06730      686.0   \n",
       "\n",
       "   koi_depth_err1  koi_depth_err2  koi_prad  koi_prad_err1  koi_prad_err2  \\\n",
       "0            35.5           -35.5      2.83           0.32          -0.19   \n",
       "1           171.0          -171.0     14.60           3.92          -1.31   \n",
       "2            12.8           -12.8     33.46           8.50          -2.83   \n",
       "3            16.9           -16.9      2.75           0.88          -0.35   \n",
       "4            18.7           -18.7      2.77           0.90          -0.30   \n",
       "\n",
       "   koi_teq  koi_insol  koi_insol_err1  koi_insol_err2  koi_model_snr  \\\n",
       "0      443       9.11            2.87           -1.62           25.8   \n",
       "1      638      39.30           31.04          -10.49           76.3   \n",
       "2     1395     891.96          668.95         -230.35          505.6   \n",
       "3     1406     926.16          874.33         -314.24           40.9   \n",
       "4     1160     427.65          420.33         -136.70           40.2   \n",
       "\n",
       "   koi_tce_plnt_num  koi_steff  koi_steff_err1  koi_steff_err2  koi_slogg  \\\n",
       "0                 2       5455              81             -81      4.467   \n",
       "1                 1       5853             158            -176      4.544   \n",
       "2                 1       5805             157            -174      4.564   \n",
       "3                 1       6031             169            -211      4.438   \n",
       "4                 2       6046             189            -232      4.486   \n",
       "\n",
       "   koi_slogg_err1  koi_slogg_err2  koi_srad  koi_srad_err1  koi_srad_err2  \\\n",
       "0           0.064          -0.096     0.927          0.105         -0.061   \n",
       "1           0.044          -0.176     0.868          0.233         -0.078   \n",
       "2           0.053          -0.168     0.791          0.201         -0.067   \n",
       "3           0.070          -0.210     1.046          0.334         -0.133   \n",
       "4           0.054          -0.229     0.972          0.315         -0.105   \n",
       "\n",
       "          ra        dec  koi_kepmag  \n",
       "0  291.93423  48.141651      15.347  \n",
       "1  297.00482  48.134129      15.436  \n",
       "2  285.53461  48.285210      15.597  \n",
       "3  288.75488  48.226200      15.509  \n",
       "4  296.28613  48.224670      15.714  "
      ],
      "text/html": "<div>\n<style scoped>\n    .dataframe tbody tr th:only-of-type {\n        vertical-align: middle;\n    }\n\n    .dataframe tbody tr th {\n        vertical-align: top;\n    }\n\n    .dataframe thead th {\n        text-align: right;\n    }\n</style>\n<table border=\"1\" class=\"dataframe\">\n  <thead>\n    <tr style=\"text-align: right;\">\n      <th></th>\n      <th>koi_fpflag_nt</th>\n      <th>koi_fpflag_ss</th>\n      <th>koi_fpflag_co</th>\n      <th>koi_fpflag_ec</th>\n      <th>koi_period</th>\n      <th>koi_period_err1</th>\n      <th>koi_period_err2</th>\n      <th>koi_time0bk</th>\n      <th>koi_time0bk_err1</th>\n      <th>koi_time0bk_err2</th>\n      <th>koi_impact</th>\n      <th>koi_impact_err1</th>\n      <th>koi_impact_err2</th>\n      <th>koi_duration</th>\n      <th>koi_duration_err1</th>\n      <th>koi_duration_err2</th>\n      <th>koi_depth</th>\n      <th>koi_depth_err1</th>\n      <th>koi_depth_err2</th>\n      <th>koi_prad</th>\n      <th>koi_prad_err1</th>\n      <th>koi_prad_err2</th>\n      <th>koi_teq</th>\n      <th>koi_insol</th>\n      <th>koi_insol_err1</th>\n      <th>koi_insol_err2</th>\n      <th>koi_model_snr</th>\n      <th>koi_tce_plnt_num</th>\n      <th>koi_steff</th>\n      <th>koi_steff_err1</th>\n      <th>koi_steff_err2</th>\n      <th>koi_slogg</th>\n      <th>koi_slogg_err1</th>\n      <th>koi_slogg_err2</th>\n      <th>koi_srad</th>\n      <th>koi_srad_err1</th>\n      <th>koi_srad_err2</th>\n      <th>ra</th>\n      <th>dec</th>\n      <th>koi_kepmag</th>\n    </tr>\n  </thead>\n  <tbody>\n    <tr>\n      <th>0</th>\n      <td>0</td>\n      <td>0</td>\n      <td>0</td>\n      <td>0</td>\n      <td>54.418383</td>\n      <td>2.479000e-04</td>\n      <td>-2.479000e-04</td>\n      <td>162.513840</td>\n      <td>0.003520</td>\n      <td>-0.003520</td>\n      <td>0.586</td>\n      <td>0.059</td>\n      <td>-0.443</td>\n      <td>4.50700</td>\n      <td>0.11600</td>\n      <td>-0.11600</td>\n      <td>874.8</td>\n      <td>35.5</td>\n      <td>-35.5</td>\n      <td>2.83</td>\n      <td>0.32</td>\n      <td>-0.19</td>\n      <td>443</td>\n      <td>9.11</td>\n      <td>2.87</td>\n      <td>-1.62</td>\n      <td>25.8</td>\n      <td>2</td>\n      <td>5455</td>\n      <td>81</td>\n      <td>-81</td>\n      <td>4.467</td>\n      <td>0.064</td>\n      <td>-0.096</td>\n      <td>0.927</td>\n      <td>0.105</td>\n      <td>-0.061</td>\n      <td>291.93423</td>\n      <td>48.141651</td>\n      <td>15.347</td>\n    </tr>\n    <tr>\n      <th>1</th>\n      <td>0</td>\n      <td>1</td>\n      <td>0</td>\n      <td>0</td>\n      <td>19.899140</td>\n      <td>1.490000e-05</td>\n      <td>-1.490000e-05</td>\n      <td>175.850252</td>\n      <td>0.000581</td>\n      <td>-0.000581</td>\n      <td>0.969</td>\n      <td>5.126</td>\n      <td>-0.077</td>\n      <td>1.78220</td>\n      <td>0.03410</td>\n      <td>-0.03410</td>\n      <td>10829.0</td>\n      <td>171.0</td>\n      <td>-171.0</td>\n      <td>14.60</td>\n      <td>3.92</td>\n      <td>-1.31</td>\n      <td>638</td>\n      <td>39.30</td>\n      <td>31.04</td>\n      <td>-10.49</td>\n      <td>76.3</td>\n      <td>1</td>\n      <td>5853</td>\n      <td>158</td>\n      <td>-176</td>\n      <td>4.544</td>\n      <td>0.044</td>\n      <td>-0.176</td>\n      <td>0.868</td>\n      <td>0.233</td>\n      <td>-0.078</td>\n      <td>297.00482</td>\n      <td>48.134129</td>\n      <td>15.436</td>\n    </tr>\n    <tr>\n      <th>2</th>\n      <td>0</td>\n      <td>1</td>\n      <td>0</td>\n      <td>0</td>\n      <td>1.736952</td>\n      <td>2.630000e-07</td>\n      <td>-2.630000e-07</td>\n      <td>170.307565</td>\n      <td>0.000115</td>\n      <td>-0.000115</td>\n      <td>1.276</td>\n      <td>0.115</td>\n      <td>-0.092</td>\n      <td>2.40641</td>\n      <td>0.00537</td>\n      <td>-0.00537</td>\n      <td>8079.2</td>\n      <td>12.8</td>\n      <td>-12.8</td>\n      <td>33.46</td>\n      <td>8.50</td>\n      <td>-2.83</td>\n      <td>1395</td>\n      <td>891.96</td>\n      <td>668.95</td>\n      <td>-230.35</td>\n      <td>505.6</td>\n      <td>1</td>\n      <td>5805</td>\n      <td>157</td>\n      <td>-174</td>\n      <td>4.564</td>\n      <td>0.053</td>\n      <td>-0.168</td>\n      <td>0.791</td>\n      <td>0.201</td>\n      <td>-0.067</td>\n      <td>285.53461</td>\n      <td>48.285210</td>\n      <td>15.597</td>\n    </tr>\n    <tr>\n      <th>3</th>\n      <td>0</td>\n      <td>0</td>\n      <td>0</td>\n      <td>0</td>\n      <td>2.525592</td>\n      <td>3.760000e-06</td>\n      <td>-3.760000e-06</td>\n      <td>171.595550</td>\n      <td>0.001130</td>\n      <td>-0.001130</td>\n      <td>0.701</td>\n      <td>0.235</td>\n      <td>-0.478</td>\n      <td>1.65450</td>\n      <td>0.04200</td>\n      <td>-0.04200</td>\n      <td>603.3</td>\n      <td>16.9</td>\n      <td>-16.9</td>\n      <td>2.75</td>\n      <td>0.88</td>\n      <td>-0.35</td>\n      <td>1406</td>\n      <td>926.16</td>\n      <td>874.33</td>\n      <td>-314.24</td>\n      <td>40.9</td>\n      <td>1</td>\n      <td>6031</td>\n      <td>169</td>\n      <td>-211</td>\n      <td>4.438</td>\n      <td>0.070</td>\n      <td>-0.210</td>\n      <td>1.046</td>\n      <td>0.334</td>\n      <td>-0.133</td>\n      <td>288.75488</td>\n      <td>48.226200</td>\n      <td>15.509</td>\n    </tr>\n    <tr>\n      <th>4</th>\n      <td>0</td>\n      <td>0</td>\n      <td>0</td>\n      <td>0</td>\n      <td>4.134435</td>\n      <td>1.050000e-05</td>\n      <td>-1.050000e-05</td>\n      <td>172.979370</td>\n      <td>0.001900</td>\n      <td>-0.001900</td>\n      <td>0.762</td>\n      <td>0.139</td>\n      <td>-0.532</td>\n      <td>3.14020</td>\n      <td>0.06730</td>\n      <td>-0.06730</td>\n      <td>686.0</td>\n      <td>18.7</td>\n      <td>-18.7</td>\n      <td>2.77</td>\n      <td>0.90</td>\n      <td>-0.30</td>\n      <td>1160</td>\n      <td>427.65</td>\n      <td>420.33</td>\n      <td>-136.70</td>\n      <td>40.2</td>\n      <td>2</td>\n      <td>6046</td>\n      <td>189</td>\n      <td>-232</td>\n      <td>4.486</td>\n      <td>0.054</td>\n      <td>-0.229</td>\n      <td>0.972</td>\n      <td>0.315</td>\n      <td>-0.105</td>\n      <td>296.28613</td>\n      <td>48.224670</td>\n      <td>15.714</td>\n    </tr>\n  </tbody>\n</table>\n</div>"
     },
     "metadata": {},
     "execution_count": 10
    }
   ],
   "source": [
    "# Set features. This will also be used as your x values.\n",
    "selected_features = df.iloc[:,1:]\n",
    "selected_features.head()"
   ]
  },
  {
   "cell_type": "markdown",
   "metadata": {},
   "source": [
    "# Create a Train Test Split\n",
    "\n",
    "Use `koi_disposition` for the y values"
   ]
  },
  {
   "cell_type": "code",
   "execution_count": 11,
   "metadata": {},
   "outputs": [],
   "source": [
    "from sklearn.model_selection import train_test_split\n",
    "X = selected_features\n",
    "y = df[\"koi_disposition\"]\n",
    "X_train, X_test, y_train, y_test = train_test_split(\n",
    "    X, y, random_state=1)"
   ]
  },
  {
   "cell_type": "code",
   "execution_count": 110,
   "metadata": {},
   "outputs": [
    {
     "output_type": "execute_result",
     "data": {
      "text/plain": [
       "      koi_fpflag_nt  koi_fpflag_ss  koi_fpflag_co  koi_fpflag_ec  koi_period  \\\n",
       "3563              0              0              0              0   10.548413   \n",
       "4099              0              0              0              0   24.754385   \n",
       "5460              0              0              0              0    1.057336   \n",
       "1091              0              0              0              0  201.118319   \n",
       "5999              0              0              0              0   91.649983   \n",
       "\n",
       "      koi_period_err1  koi_period_err2  koi_time0bk  koi_time0bk_err1  \\\n",
       "3563     5.470000e-05    -5.470000e-05   139.064020          0.004110   \n",
       "4099     1.365000e-04    -1.365000e-04   140.207320          0.004460   \n",
       "5460     1.230000e-07    -1.230000e-07   131.792007          0.000096   \n",
       "1091     1.461000e-03    -1.461000e-03   187.569860          0.005290   \n",
       "5999     3.181000e-03    -3.181000e-03   175.715600          0.028600   \n",
       "\n",
       "      koi_time0bk_err2  koi_impact  koi_impact_err1  koi_impact_err2  \\\n",
       "3563         -0.004110      1.0170           0.0470          -0.7860   \n",
       "4099         -0.004460      0.7090           0.0230          -0.5160   \n",
       "5460         -0.000096      0.2620           0.2740          -0.1130   \n",
       "1091         -0.005290      0.0010           0.4170          -0.0010   \n",
       "5999         -0.028600      0.2136           0.2282          -0.2135   \n",
       "\n",
       "      koi_duration  koi_duration_err1  koi_duration_err2  koi_depth  \\\n",
       "3563        1.8720             0.1430            -0.1430      102.9   \n",
       "4099        3.3900             0.1530            -0.1530      593.3   \n",
       "5460        1.5795             0.0152            -0.0152    47337.0   \n",
       "1091       10.3280             0.1650            -0.1650      584.8   \n",
       "5999       10.2940             0.9390            -0.9390      193.6   \n",
       "\n",
       "      koi_depth_err1  koi_depth_err2  koi_prad  koi_prad_err1  koi_prad_err2  \\\n",
       "3563            10.4           -10.4      3.89           0.65          -0.34   \n",
       "4099            38.0           -38.0      2.10           0.14          -0.20   \n",
       "5460           120.0          -120.0     14.59           1.15          -1.28   \n",
       "1091            19.2           -19.2      2.28           0.32          -0.20   \n",
       "5999            23.9           -23.9      2.27           1.27          -0.54   \n",
       "\n",
       "      koi_teq  koi_insol  koi_insol_err1  koi_insol_err2  koi_model_snr  \\\n",
       "3563      899     154.84           72.78          -37.23           11.7   \n",
       "4099      491      13.70            3.92           -3.75           18.0   \n",
       "5460     1276     623.51          184.18         -164.28          476.0   \n",
       "1091      300       1.92            0.77           -0.44           34.7   \n",
       "5999      568      24.57           41.53          -12.19            8.7   \n",
       "\n",
       "      koi_tce_plnt_num  koi_steff  koi_steff_err1  koi_steff_err2  koi_slogg  \\\n",
       "3563                 2       6047             120            -133      4.387   \n",
       "4099                 1       4852             144            -144      4.519   \n",
       "5460                 1       4664             126            -140      4.594   \n",
       "1091                 1       5646             101            -112      4.447   \n",
       "5999                 2       6705             164            -233      4.145   \n",
       "\n",
       "      koi_slogg_err1  koi_slogg_err2  koi_srad  koi_srad_err1  koi_srad_err2  \\\n",
       "3563           0.066          -0.123     1.092          0.181         -0.097   \n",
       "4099           0.078          -0.052     0.804          0.056         -0.076   \n",
       "5460           0.054          -0.027     0.683          0.054         -0.060   \n",
       "1091           0.072          -0.108     0.954          0.135         -0.083   \n",
       "5999           0.164          -0.164     1.608          0.905         -0.383   \n",
       "\n",
       "             ra        dec  koi_kepmag  \n",
       "3563  298.09543  44.737061      13.204  \n",
       "4099  295.73535  42.576248      15.514  \n",
       "5460  292.18417  49.310040      15.414  \n",
       "1091  283.11377  48.131390      13.328  \n",
       "5999  294.93198  39.812420      12.964  "
      ],
      "text/html": "<div>\n<style scoped>\n    .dataframe tbody tr th:only-of-type {\n        vertical-align: middle;\n    }\n\n    .dataframe tbody tr th {\n        vertical-align: top;\n    }\n\n    .dataframe thead th {\n        text-align: right;\n    }\n</style>\n<table border=\"1\" class=\"dataframe\">\n  <thead>\n    <tr style=\"text-align: right;\">\n      <th></th>\n      <th>koi_fpflag_nt</th>\n      <th>koi_fpflag_ss</th>\n      <th>koi_fpflag_co</th>\n      <th>koi_fpflag_ec</th>\n      <th>koi_period</th>\n      <th>koi_period_err1</th>\n      <th>koi_period_err2</th>\n      <th>koi_time0bk</th>\n      <th>koi_time0bk_err1</th>\n      <th>koi_time0bk_err2</th>\n      <th>koi_impact</th>\n      <th>koi_impact_err1</th>\n      <th>koi_impact_err2</th>\n      <th>koi_duration</th>\n      <th>koi_duration_err1</th>\n      <th>koi_duration_err2</th>\n      <th>koi_depth</th>\n      <th>koi_depth_err1</th>\n      <th>koi_depth_err2</th>\n      <th>koi_prad</th>\n      <th>koi_prad_err1</th>\n      <th>koi_prad_err2</th>\n      <th>koi_teq</th>\n      <th>koi_insol</th>\n      <th>koi_insol_err1</th>\n      <th>koi_insol_err2</th>\n      <th>koi_model_snr</th>\n      <th>koi_tce_plnt_num</th>\n      <th>koi_steff</th>\n      <th>koi_steff_err1</th>\n      <th>koi_steff_err2</th>\n      <th>koi_slogg</th>\n      <th>koi_slogg_err1</th>\n      <th>koi_slogg_err2</th>\n      <th>koi_srad</th>\n      <th>koi_srad_err1</th>\n      <th>koi_srad_err2</th>\n      <th>ra</th>\n      <th>dec</th>\n      <th>koi_kepmag</th>\n    </tr>\n  </thead>\n  <tbody>\n    <tr>\n      <th>3563</th>\n      <td>0</td>\n      <td>0</td>\n      <td>0</td>\n      <td>0</td>\n      <td>10.548413</td>\n      <td>5.470000e-05</td>\n      <td>-5.470000e-05</td>\n      <td>139.064020</td>\n      <td>0.004110</td>\n      <td>-0.004110</td>\n      <td>1.0170</td>\n      <td>0.0470</td>\n      <td>-0.7860</td>\n      <td>1.8720</td>\n      <td>0.1430</td>\n      <td>-0.1430</td>\n      <td>102.9</td>\n      <td>10.4</td>\n      <td>-10.4</td>\n      <td>3.89</td>\n      <td>0.65</td>\n      <td>-0.34</td>\n      <td>899</td>\n      <td>154.84</td>\n      <td>72.78</td>\n      <td>-37.23</td>\n      <td>11.7</td>\n      <td>2</td>\n      <td>6047</td>\n      <td>120</td>\n      <td>-133</td>\n      <td>4.387</td>\n      <td>0.066</td>\n      <td>-0.123</td>\n      <td>1.092</td>\n      <td>0.181</td>\n      <td>-0.097</td>\n      <td>298.09543</td>\n      <td>44.737061</td>\n      <td>13.204</td>\n    </tr>\n    <tr>\n      <th>4099</th>\n      <td>0</td>\n      <td>0</td>\n      <td>0</td>\n      <td>0</td>\n      <td>24.754385</td>\n      <td>1.365000e-04</td>\n      <td>-1.365000e-04</td>\n      <td>140.207320</td>\n      <td>0.004460</td>\n      <td>-0.004460</td>\n      <td>0.7090</td>\n      <td>0.0230</td>\n      <td>-0.5160</td>\n      <td>3.3900</td>\n      <td>0.1530</td>\n      <td>-0.1530</td>\n      <td>593.3</td>\n      <td>38.0</td>\n      <td>-38.0</td>\n      <td>2.10</td>\n      <td>0.14</td>\n      <td>-0.20</td>\n      <td>491</td>\n      <td>13.70</td>\n      <td>3.92</td>\n      <td>-3.75</td>\n      <td>18.0</td>\n      <td>1</td>\n      <td>4852</td>\n      <td>144</td>\n      <td>-144</td>\n      <td>4.519</td>\n      <td>0.078</td>\n      <td>-0.052</td>\n      <td>0.804</td>\n      <td>0.056</td>\n      <td>-0.076</td>\n      <td>295.73535</td>\n      <td>42.576248</td>\n      <td>15.514</td>\n    </tr>\n    <tr>\n      <th>5460</th>\n      <td>0</td>\n      <td>0</td>\n      <td>0</td>\n      <td>0</td>\n      <td>1.057336</td>\n      <td>1.230000e-07</td>\n      <td>-1.230000e-07</td>\n      <td>131.792007</td>\n      <td>0.000096</td>\n      <td>-0.000096</td>\n      <td>0.2620</td>\n      <td>0.2740</td>\n      <td>-0.1130</td>\n      <td>1.5795</td>\n      <td>0.0152</td>\n      <td>-0.0152</td>\n      <td>47337.0</td>\n      <td>120.0</td>\n      <td>-120.0</td>\n      <td>14.59</td>\n      <td>1.15</td>\n      <td>-1.28</td>\n      <td>1276</td>\n      <td>623.51</td>\n      <td>184.18</td>\n      <td>-164.28</td>\n      <td>476.0</td>\n      <td>1</td>\n      <td>4664</td>\n      <td>126</td>\n      <td>-140</td>\n      <td>4.594</td>\n      <td>0.054</td>\n      <td>-0.027</td>\n      <td>0.683</td>\n      <td>0.054</td>\n      <td>-0.060</td>\n      <td>292.18417</td>\n      <td>49.310040</td>\n      <td>15.414</td>\n    </tr>\n    <tr>\n      <th>1091</th>\n      <td>0</td>\n      <td>0</td>\n      <td>0</td>\n      <td>0</td>\n      <td>201.118319</td>\n      <td>1.461000e-03</td>\n      <td>-1.461000e-03</td>\n      <td>187.569860</td>\n      <td>0.005290</td>\n      <td>-0.005290</td>\n      <td>0.0010</td>\n      <td>0.4170</td>\n      <td>-0.0010</td>\n      <td>10.3280</td>\n      <td>0.1650</td>\n      <td>-0.1650</td>\n      <td>584.8</td>\n      <td>19.2</td>\n      <td>-19.2</td>\n      <td>2.28</td>\n      <td>0.32</td>\n      <td>-0.20</td>\n      <td>300</td>\n      <td>1.92</td>\n      <td>0.77</td>\n      <td>-0.44</td>\n      <td>34.7</td>\n      <td>1</td>\n      <td>5646</td>\n      <td>101</td>\n      <td>-112</td>\n      <td>4.447</td>\n      <td>0.072</td>\n      <td>-0.108</td>\n      <td>0.954</td>\n      <td>0.135</td>\n      <td>-0.083</td>\n      <td>283.11377</td>\n      <td>48.131390</td>\n      <td>13.328</td>\n    </tr>\n    <tr>\n      <th>5999</th>\n      <td>0</td>\n      <td>0</td>\n      <td>0</td>\n      <td>0</td>\n      <td>91.649983</td>\n      <td>3.181000e-03</td>\n      <td>-3.181000e-03</td>\n      <td>175.715600</td>\n      <td>0.028600</td>\n      <td>-0.028600</td>\n      <td>0.2136</td>\n      <td>0.2282</td>\n      <td>-0.2135</td>\n      <td>10.2940</td>\n      <td>0.9390</td>\n      <td>-0.9390</td>\n      <td>193.6</td>\n      <td>23.9</td>\n      <td>-23.9</td>\n      <td>2.27</td>\n      <td>1.27</td>\n      <td>-0.54</td>\n      <td>568</td>\n      <td>24.57</td>\n      <td>41.53</td>\n      <td>-12.19</td>\n      <td>8.7</td>\n      <td>2</td>\n      <td>6705</td>\n      <td>164</td>\n      <td>-233</td>\n      <td>4.145</td>\n      <td>0.164</td>\n      <td>-0.164</td>\n      <td>1.608</td>\n      <td>0.905</td>\n      <td>-0.383</td>\n      <td>294.93198</td>\n      <td>39.812420</td>\n      <td>12.964</td>\n    </tr>\n  </tbody>\n</table>\n</div>"
     },
     "metadata": {},
     "execution_count": 110
    }
   ],
   "source": [
    "X_train.head()"
   ]
  },
  {
   "cell_type": "markdown",
   "metadata": {},
   "source": [
    "# Pre-processing\n",
    "\n",
    "Scale the data using the MinMaxScaler and perform some feature selection"
   ]
  },
  {
   "cell_type": "code",
   "execution_count": 64,
   "metadata": {},
   "outputs": [],
   "source": [
    "# Scale your data\n",
    "from sklearn.preprocessing import MinMaxScaler\n",
    "X_scaler = MinMaxScaler().fit(X_train)\n",
    "X_train_scaled = X_scaler.transform(X_train)\n",
    "X_test_scaled = X_scaler.transform(X_test)"
   ]
  },
  {
   "cell_type": "code",
   "execution_count": 65,
   "metadata": {},
   "outputs": [],
   "source": [
    "from sklearn.preprocessing import LabelEncoder\n",
    "from tensorflow.keras.utils import to_categorical\n",
    "label_encoder = LabelEncoder()\n",
    "label_encoder.fit(y_train)\n",
    "encoded_y_train = label_encoder.transform(y_train)\n",
    "encoded_y_test = label_encoder.transform(y_test)\n",
    "y_train_categorical = to_categorical(encoded_y_train)\n",
    "y_test_categorical = to_categorical(encoded_y_test)"
   ]
  },
  {
   "cell_type": "code",
   "execution_count": 67,
   "metadata": {},
   "outputs": [],
   "source": [
    "from tensorflow.keras.models import Sequential\n",
    "from tensorflow.keras.layers import Dense"
   ]
  },
  {
   "cell_type": "code",
   "execution_count": 76,
   "metadata": {},
   "outputs": [],
   "source": [
    "model = Sequential()\n",
    "model.add(Dense(units=100, activation='relu', input_dim=40))\n",
    "model.add(Dense(units=100, activation='relu'))\n",
    "model.add(Dense(units=3, activation='softmax'))"
   ]
  },
  {
   "cell_type": "code",
   "execution_count": 77,
   "metadata": {},
   "outputs": [],
   "source": [
    "model.compile(optimizer='adam',\n",
    "              loss='categorical_crossentropy',\n",
    "              metrics=['accuracy'])"
   ]
  },
  {
   "cell_type": "code",
   "execution_count": 78,
   "metadata": {
    "tags": []
   },
   "outputs": [
    {
     "output_type": "stream",
     "name": "stdout",
     "text": [
      "Epoch 1/100\n",
      "164/164 - 0s - loss: 0.5715 - accuracy: 0.7055\n",
      "Epoch 2/100\n",
      "164/164 - 0s - loss: 0.3855 - accuracy: 0.8020\n",
      "Epoch 3/100\n",
      "164/164 - 0s - loss: 0.3646 - accuracy: 0.8161\n",
      "Epoch 4/100\n",
      "164/164 - 0s - loss: 0.3527 - accuracy: 0.8234\n",
      "Epoch 5/100\n",
      "164/164 - 0s - loss: 0.3447 - accuracy: 0.8301\n",
      "Epoch 6/100\n",
      "164/164 - 0s - loss: 0.3378 - accuracy: 0.8327\n",
      "Epoch 7/100\n",
      "164/164 - 0s - loss: 0.3342 - accuracy: 0.8415\n",
      "Epoch 8/100\n",
      "164/164 - 0s - loss: 0.3251 - accuracy: 0.8484\n",
      "Epoch 9/100\n",
      "164/164 - 0s - loss: 0.3289 - accuracy: 0.8451\n",
      "Epoch 10/100\n",
      "164/164 - 0s - loss: 0.3227 - accuracy: 0.8449\n",
      "Epoch 11/100\n",
      "164/164 - 0s - loss: 0.3182 - accuracy: 0.8547\n",
      "Epoch 12/100\n",
      "164/164 - 0s - loss: 0.3083 - accuracy: 0.8613\n",
      "Epoch 13/100\n",
      "164/164 - 0s - loss: 0.3109 - accuracy: 0.8560\n",
      "Epoch 14/100\n",
      "164/164 - 0s - loss: 0.3072 - accuracy: 0.8577\n",
      "Epoch 15/100\n",
      "164/164 - 0s - loss: 0.3042 - accuracy: 0.8640\n",
      "Epoch 16/100\n",
      "164/164 - 0s - loss: 0.2980 - accuracy: 0.8680\n",
      "Epoch 17/100\n",
      "164/164 - 0s - loss: 0.3020 - accuracy: 0.8613\n",
      "Epoch 18/100\n",
      "164/164 - 0s - loss: 0.2934 - accuracy: 0.8678\n",
      "Epoch 19/100\n",
      "164/164 - 0s - loss: 0.3004 - accuracy: 0.8663\n",
      "Epoch 20/100\n",
      "164/164 - 0s - loss: 0.2893 - accuracy: 0.8739\n",
      "Epoch 21/100\n",
      "164/164 - 0s - loss: 0.2883 - accuracy: 0.8693\n",
      "Epoch 22/100\n",
      "164/164 - 0s - loss: 0.2903 - accuracy: 0.8703\n",
      "Epoch 23/100\n",
      "164/164 - 0s - loss: 0.2867 - accuracy: 0.8722\n",
      "Epoch 24/100\n",
      "164/164 - 0s - loss: 0.2857 - accuracy: 0.8777\n",
      "Epoch 25/100\n",
      "164/164 - 0s - loss: 0.2908 - accuracy: 0.8753\n",
      "Epoch 26/100\n",
      "164/164 - 0s - loss: 0.2817 - accuracy: 0.8724\n",
      "Epoch 27/100\n",
      "164/164 - 0s - loss: 0.2835 - accuracy: 0.8764\n",
      "Epoch 28/100\n",
      "164/164 - 0s - loss: 0.2828 - accuracy: 0.8764\n",
      "Epoch 29/100\n",
      "164/164 - 0s - loss: 0.2776 - accuracy: 0.8749\n",
      "Epoch 30/100\n",
      "164/164 - 0s - loss: 0.2748 - accuracy: 0.8798\n",
      "Epoch 31/100\n",
      "164/164 - 0s - loss: 0.2788 - accuracy: 0.8770\n",
      "Epoch 32/100\n",
      "164/164 - 0s - loss: 0.2719 - accuracy: 0.8814\n",
      "Epoch 33/100\n",
      "164/164 - 0s - loss: 0.2756 - accuracy: 0.8798\n",
      "Epoch 34/100\n",
      "164/164 - 0s - loss: 0.2718 - accuracy: 0.8814\n",
      "Epoch 35/100\n",
      "164/164 - 0s - loss: 0.2776 - accuracy: 0.8781\n",
      "Epoch 36/100\n",
      "164/164 - 0s - loss: 0.2742 - accuracy: 0.8791\n",
      "Epoch 37/100\n",
      "164/164 - 0s - loss: 0.2677 - accuracy: 0.8844\n",
      "Epoch 38/100\n",
      "164/164 - 0s - loss: 0.2690 - accuracy: 0.8816\n",
      "Epoch 39/100\n",
      "164/164 - 0s - loss: 0.2661 - accuracy: 0.8831\n",
      "Epoch 40/100\n",
      "164/164 - 0s - loss: 0.2682 - accuracy: 0.8823\n",
      "Epoch 41/100\n",
      "164/164 - 0s - loss: 0.2617 - accuracy: 0.8873\n",
      "Epoch 42/100\n",
      "164/164 - 0s - loss: 0.2616 - accuracy: 0.8861\n",
      "Epoch 43/100\n",
      "164/164 - 0s - loss: 0.2583 - accuracy: 0.8858\n",
      "Epoch 44/100\n",
      "164/164 - 0s - loss: 0.2618 - accuracy: 0.8837\n",
      "Epoch 45/100\n",
      "164/164 - 0s - loss: 0.2585 - accuracy: 0.8852\n",
      "Epoch 46/100\n",
      "164/164 - 0s - loss: 0.2620 - accuracy: 0.8865\n",
      "Epoch 47/100\n",
      "164/164 - 0s - loss: 0.2538 - accuracy: 0.8913\n",
      "Epoch 48/100\n",
      "164/164 - 0s - loss: 0.2594 - accuracy: 0.8852\n",
      "Epoch 49/100\n",
      "164/164 - 0s - loss: 0.2594 - accuracy: 0.8848\n",
      "Epoch 50/100\n",
      "164/164 - 0s - loss: 0.2589 - accuracy: 0.8821\n",
      "Epoch 51/100\n",
      "164/164 - 0s - loss: 0.2615 - accuracy: 0.8829\n",
      "Epoch 52/100\n",
      "164/164 - 0s - loss: 0.2496 - accuracy: 0.8894\n",
      "Epoch 53/100\n",
      "164/164 - 0s - loss: 0.2519 - accuracy: 0.8943\n",
      "Epoch 54/100\n",
      "164/164 - 0s - loss: 0.2476 - accuracy: 0.8920\n",
      "Epoch 55/100\n",
      "164/164 - 0s - loss: 0.2521 - accuracy: 0.8905\n",
      "Epoch 56/100\n",
      "164/164 - 0s - loss: 0.2492 - accuracy: 0.8905\n",
      "Epoch 57/100\n",
      "164/164 - 0s - loss: 0.2558 - accuracy: 0.8850\n",
      "Epoch 58/100\n",
      "164/164 - 0s - loss: 0.2569 - accuracy: 0.8875\n",
      "Epoch 59/100\n",
      "164/164 - 0s - loss: 0.2473 - accuracy: 0.8917\n",
      "Epoch 60/100\n",
      "164/164 - 0s - loss: 0.2458 - accuracy: 0.8920\n",
      "Epoch 61/100\n",
      "164/164 - 0s - loss: 0.2460 - accuracy: 0.8905\n",
      "Epoch 62/100\n",
      "164/164 - 0s - loss: 0.2527 - accuracy: 0.8850\n",
      "Epoch 63/100\n",
      "164/164 - 0s - loss: 0.2455 - accuracy: 0.8903\n",
      "Epoch 64/100\n",
      "164/164 - 0s - loss: 0.2485 - accuracy: 0.8886\n",
      "Epoch 65/100\n",
      "164/164 - 0s - loss: 0.2481 - accuracy: 0.8913\n",
      "Epoch 66/100\n",
      "164/164 - 0s - loss: 0.2469 - accuracy: 0.8926\n",
      "Epoch 67/100\n",
      "164/164 - 0s - loss: 0.2442 - accuracy: 0.8932\n",
      "Epoch 68/100\n",
      "164/164 - 0s - loss: 0.2499 - accuracy: 0.8882\n",
      "Epoch 69/100\n",
      "164/164 - 0s - loss: 0.2379 - accuracy: 0.8951\n",
      "Epoch 70/100\n",
      "164/164 - 0s - loss: 0.2420 - accuracy: 0.8926\n",
      "Epoch 71/100\n",
      "164/164 - 0s - loss: 0.2420 - accuracy: 0.8928\n",
      "Epoch 72/100\n",
      "164/164 - 0s - loss: 0.2393 - accuracy: 0.8943\n",
      "Epoch 73/100\n",
      "164/164 - 0s - loss: 0.2420 - accuracy: 0.8924\n",
      "Epoch 74/100\n",
      "164/164 - 0s - loss: 0.2418 - accuracy: 0.8905\n",
      "Epoch 75/100\n",
      "164/164 - 0s - loss: 0.2403 - accuracy: 0.8880\n",
      "Epoch 76/100\n",
      "164/164 - 0s - loss: 0.2377 - accuracy: 0.8945\n",
      "Epoch 77/100\n",
      "164/164 - 0s - loss: 0.2376 - accuracy: 0.8978\n",
      "Epoch 78/100\n",
      "164/164 - 0s - loss: 0.2340 - accuracy: 0.8962\n",
      "Epoch 79/100\n",
      "164/164 - 0s - loss: 0.2380 - accuracy: 0.8949\n",
      "Epoch 80/100\n",
      "164/164 - 0s - loss: 0.2412 - accuracy: 0.8932\n",
      "Epoch 81/100\n",
      "164/164 - 0s - loss: 0.2366 - accuracy: 0.8926\n",
      "Epoch 82/100\n",
      "164/164 - 0s - loss: 0.2365 - accuracy: 0.8959\n",
      "Epoch 83/100\n",
      "164/164 - 0s - loss: 0.2368 - accuracy: 0.8926\n",
      "Epoch 84/100\n",
      "164/164 - 0s - loss: 0.2342 - accuracy: 0.9010\n",
      "Epoch 85/100\n",
      "164/164 - 0s - loss: 0.2317 - accuracy: 0.8999\n",
      "Epoch 86/100\n",
      "164/164 - 0s - loss: 0.2298 - accuracy: 0.8970\n",
      "Epoch 87/100\n",
      "164/164 - 0s - loss: 0.2347 - accuracy: 0.8936\n",
      "Epoch 88/100\n",
      "164/164 - 0s - loss: 0.2319 - accuracy: 0.8949\n",
      "Epoch 89/100\n",
      "164/164 - 0s - loss: 0.2369 - accuracy: 0.8932\n",
      "Epoch 90/100\n",
      "164/164 - 0s - loss: 0.2344 - accuracy: 0.8951\n",
      "Epoch 91/100\n",
      "164/164 - 0s - loss: 0.2334 - accuracy: 0.8989\n",
      "Epoch 92/100\n",
      "164/164 - 0s - loss: 0.2351 - accuracy: 0.8966\n",
      "Epoch 93/100\n",
      "164/164 - 0s - loss: 0.2313 - accuracy: 0.8964\n",
      "Epoch 94/100\n",
      "164/164 - 0s - loss: 0.2265 - accuracy: 0.9004\n",
      "Epoch 95/100\n",
      "164/164 - 0s - loss: 0.2290 - accuracy: 0.8985\n",
      "Epoch 96/100\n",
      "164/164 - 0s - loss: 0.2246 - accuracy: 0.9002\n",
      "Epoch 97/100\n",
      "164/164 - 0s - loss: 0.2236 - accuracy: 0.8993\n",
      "Epoch 98/100\n",
      "164/164 - 0s - loss: 0.2255 - accuracy: 0.9004\n",
      "Epoch 99/100\n",
      "164/164 - 0s - loss: 0.2258 - accuracy: 0.9012\n",
      "Epoch 100/100\n",
      "164/164 - 0s - loss: 0.2363 - accuracy: 0.8953\n"
     ]
    },
    {
     "output_type": "execute_result",
     "data": {
      "text/plain": [
       "<tensorflow.python.keras.callbacks.History at 0x7fcc97c871f0>"
      ]
     },
     "metadata": {},
     "execution_count": 78
    }
   ],
   "source": [
    "model.fit(\n",
    "    X_train_scaled,\n",
    "    y_train_categorical,\n",
    "    epochs=100,\n",
    "    shuffle=True,\n",
    "    verbose=2\n",
    ")"
   ]
  },
  {
   "cell_type": "code",
   "execution_count": 79,
   "metadata": {},
   "outputs": [
    {
     "output_type": "stream",
     "name": "stdout",
     "text": [
      "55/55 - 0s - loss: 0.2318 - accuracy: 0.9090\n",
      "Normal Neural Network - Loss: 0.23183183372020721, Accuracy: 0.9090389013290405\n"
     ]
    }
   ],
   "source": [
    "model_loss, model_accuracy = model.evaluate(\n",
    "    X_test_scaled, y_test_categorical, verbose=2)\n",
    "print(\n",
    "    f\"Normal Neural Network - Loss: {model_loss}, Accuracy: {model_accuracy}\")"
   ]
  },
  {
   "cell_type": "markdown",
   "metadata": {},
   "source": [
    "# Train the Model\n",
    "\n"
   ]
  },
  {
   "cell_type": "markdown",
   "metadata": {},
   "source": [
    "# Save the Model"
   ]
  },
  {
   "cell_type": "code",
   "execution_count": 119,
   "metadata": {},
   "outputs": [],
   "source": [
    "# save your model by updating \"your_name\" with your name\n",
    "# and \"your_model\" with your model variable\n",
    "# be sure to turn this in to BCS\n",
    "# if joblib fails to import, try running the command to install in terminal/git-bash\n",
    "model.save(\"../models/neural_network_exoplanet.h5\")"
   ]
  },
  {
   "cell_type": "code",
   "execution_count": null,
   "metadata": {},
   "outputs": [],
   "source": [
    "from tensorflow.keras.models import load_model\n",
    "voice_model = load_model(\"../models/neural_network_exoplanet.h5\")"
   ]
  }
 ],
 "metadata": {
  "kernel_info": {
   "name": "dev"
  },
  "kernelspec": {
   "name": "python3",
   "display_name": "Python 3.8.5 64-bit ('base': conda)",
   "metadata": {
    "interpreter": {
     "hash": "dca0ade3e726a953b501b15e8e990130d2b7799f14cfd9f4271676035ebe5511"
    }
   }
  },
  "language_info": {
   "codemirror_mode": {
    "name": "ipython",
    "version": 3
   },
   "file_extension": ".py",
   "mimetype": "text/x-python",
   "name": "python",
   "nbconvert_exporter": "python",
   "pygments_lexer": "ipython3",
   "version": "3.8.5-final"
  },
  "nteract": {
   "version": "0.12.3"
  }
 },
 "nbformat": 4,
 "nbformat_minor": 2
}